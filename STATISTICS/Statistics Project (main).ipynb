{
 "cells": [
  {
   "cell_type": "markdown",
   "id": "b32ef505-013c-451b-99fb-4f5ca766c5a6",
   "metadata": {},
   "source": [
    "<h2 style=\"\n",
    "    color: #FFFFFF; \n",
    "    background-color: #003366; \n",
    "    padding: 12px 20px; \n",
    "    text-align: center; \n",
    "    border-radius: 10px; \n",
    "    font-family: 'Georgia', serif; \n",
    "    font-weight: 600; \n",
    "    font-size: 28px;\n",
    "    box-shadow: 0 2px 5px rgba(0,0,0,0.1);\n",
    "\">\n",
    "  Medical Insurance Dataset\n",
    "</h2>"
   ]
  },
  {
   "cell_type": "markdown",
   "id": "2e7f5e4e-9a03-47ef-bea3-3904aabd27e4",
   "metadata": {},
   "source": [
    "<img src=\"medical image.jpg\" width=\"1200\" height=\"500\">"
   ]
  },
  {
   "cell_type": "markdown",
   "id": "90cb51cd-0464-4e9a-a510-810071f49905",
   "metadata": {},
   "source": [
    "<table style=\"width:100%; border-collapse: collapse; font-family: 'Georgia', serif; font-size: 17px; border: 1px solid black;\">\n",
    "  <tr style=\"background-color: #8B0000; color: white;\">\n",
    "    <th style=\"padding: 10px; border: 1px solid black;\">S. No.</th>\n",
    "    <th style=\"padding: 10px; border: 1px solid black;\">Section</th>\n",
    "    <th style=\"padding: 10px; border: 1px solid black;\">Subsections</th>\n",
    "  </tr>\n",
    "  <tr>\n",
    "    <td style=\"border: 1px solid black; padding: 8px;\">1</td>\n",
    "    <td style=\"border: 1px solid black; padding: 8px;\">Introduction</td>\n",
    "    <td style=\"border: 1px solid black; padding: 8px;\">1.1 Background<br>1.2 Objectives<br>1.3 Scope of the Study</td>\n",
    "  </tr>\n",
    "  <tr>\n",
    "    <td style=\"border: 1px solid black; padding: 8px;\">2</td>\n",
    "    <td style=\"border: 1px solid black; padding: 8px;\">Abstract</td>\n",
    "    <td style=\"border: 1px solid black; padding: 8px;\">-</td>\n",
    "  </tr>\n",
    "  <tr>\n",
    "    <td style=\"border: 1px solid black; padding: 8px;\">3</td>\n",
    "    <td style=\"border: 1px solid black; padding: 8px;\">About the Dataset</td>\n",
    "    <td style=\"border: 1px solid black; padding: 8px;\">3.1 Source of the Dataset<br>3.2 Data Collection Method</td>\n",
    "  </tr>\n",
    "  <tr>\n",
    "    <td style=\"border: 1px solid black; padding: 8px;\">4</td>\n",
    "    <td style=\"border: 1px solid black; padding: 8px;\">Column Description</td>\n",
    "    <td style=\"border: 1px solid black; padding: 8px;\">4.1 Description of All Features<br>4.2 Target Variable</td>\n",
    "  </tr>\n",
    "  <tr>\n",
    "    <td style=\"border: 1px solid black; padding: 8px;\">5</td>\n",
    "    <td style=\"border: 1px solid black; padding: 8px;\">Data Preprocessing</td>\n",
    "    <td style=\"border: 1px solid black; padding: 8px;\">5.1 Data Cleaning<br>5.2 Handling Missing Values<br>5.3 Encoding and Scaling</td>\n",
    "  </tr>\n",
    "  <tr>\n",
    "    <td style=\"border: 1px solid black; padding: 8px;\">6</td>\n",
    "    <td style=\"border: 1px solid black; padding: 8px;\">Exploratory Data Analysis (EDA)</td>\n",
    "    <td style=\"border: 1px solid black; padding: 8px;\">6.1 Univariate Analysis<br>6.2 Bivariate Analysis<br>6.3 Multivariate Analysis<br>6.4 Correlation Matrix</td>\n",
    "  </tr>\n",
    "  <tr>\n",
    "    <td style=\"border: 1px solid black; padding: 8px;\">7</td>\n",
    "    <td style=\"border: 1px solid black; padding: 8px;\">Z-Test</td>\n",
    "    <td style=\"border: 1px solid black; padding: 8px;\">7.1 Hypothesis<br>7.2 Test Execution<br>7.3 Interpretation</td>\n",
    "  </tr>\n",
    "  <tr>\n",
    "    <td style=\"border: 1px solid black; padding: 8px;\">8</td>\n",
    "    <td style=\"border: 1px solid black; padding: 8px;\">T-Test</td>\n",
    "    <td style=\"border: 1px solid black; padding: 8px;\">8.1 One Sample<br>8.2 Two Sample<br>8.3 Interpretation</td>\n",
    "  </tr>\n",
    "  <tr>\n",
    "    <td style=\"border: 1px solid black; padding: 8px;\">9</td>\n",
    "    <td style=\"border: 1px solid black; padding: 8px;\">Chi-Square Test</td>\n",
    "    <td style=\"border: 1px solid black; padding: 8px;\">9.1 Contingency Table<br>9.2 Test Results<br>9.3 Interpretation</td>\n",
    "  </tr>\n",
    "  <tr>\n",
    "    <td style=\"border: 1px solid black; padding: 8px;\">10</td>\n",
    "    <td style=\"border: 1px solid black; padding: 8px;\">ANOVA</td>\n",
    "    <td style=\"border: 1px solid black; padding: 8px;\">10.1 Hypothesis<br>10.2 ANOVA Table<br>10.3 Result Interpretation</td>\n",
    "  </tr>\n",
    "  <tr>\n",
    "    <td style=\"border: 1px solid black; padding: 8px;\">11</td>\n",
    "    <td style=\"border: 1px solid black; padding: 8px;\">F-Test</td>\n",
    "    <td style=\"border: 1px solid black; padding: 8px;\">11.1 Purpose<br>11.2 Test Execution<br>11.3 Conclusion</td>\n",
    "  </tr>\n",
    "  <tr>\n",
    "    <td style=\"border: 1px solid black; padding: 8px;\">12</td>\n",
    "    <td style=\"border: 1px solid black; padding: 8px;\">Pearson Correlation Coefficient</td>\n",
    "    <td style=\"border: 1px solid black; padding: 8px;\">12.1 Definition<br>12.2 Computation<br>12.3 Analysis</td>\n",
    "  </tr>\n",
    "  <tr>\n",
    "    <td style=\"border: 1px solid black; padding: 8px;\">13</td>\n",
    "    <td style=\"border: 1px solid black; padding: 8px;\">Model Building</td>\n",
    "    <td style=\"border: 1px solid black; padding: 8px;\">13.1 Train-Test Split<br>13.2 Model Selection</td>\n",
    "  </tr>\n",
    "  <tr>\n",
    "    <td style=\"border: 1px solid black; padding: 8px;\">14</td>\n",
    "    <td style=\"border: 1px solid black; padding: 8px;\">Regression Model</td>\n",
    "    <td style=\"border: 1px solid black; padding: 8px;\">14.1 Linear Regression</td>\n",
    "  </tr>\n",
    "  <tr>\n",
    "    <td style=\"border: 1px solid black; padding: 8px;\">15</td>\n",
    "    <td style=\"border: 1px solid black; padding: 8px;\">Conclusion</td>\n",
    "    <td style=\"border: 1px solid black; padding: 8px;\">-</td>\n",
    "  </tr>\n",
    "</table>"
   ]
  },
  {
   "cell_type": "markdown",
   "id": "223e8d08-9516-4ec0-9559-c37f60aab2f6",
   "metadata": {},
   "source": [
    "<h1 style=\"background-color: #8B0000; color: white; padding: 16px; font-family: 'Times New Roman', serif; text-align: center; border: 2px solid #8B0000;\">\n",
    "  INTRODUCTION\n",
    "</h1>"
   ]
  },
  {
   "cell_type": "markdown",
   "id": "f91239bd-c3d8-4bc4-bb18-756a52b2a8b4",
   "metadata": {},
   "source": [
    "This project aims to analyze a medical insurance dataset to uncover patterns and relationships between individual characteristics and their corresponding insurance charges. By using statistical methods such as Z-test, T-test, ANOVA, Chi-square, and F-test, we evaluate the influence of factors like age, sex, BMI, number of children, smoking status, and region on medical expenses. The goal is to determine which attributes significantly affect insurance costs and to gain insights that can support healthcare planning, risk assessment, and premium prediction. This project combines data analysis, statistical testing, and visualization to draw meaningful conclusions from real-world healthcare data."
   ]
  },
  {
   "cell_type": "markdown",
   "id": "38c9c966-5459-4baf-9a00-40061e6e0b7f",
   "metadata": {},
   "source": [
    "<h1 style=\"background-color: #8B0000; color: white; padding: 16px; font-family: 'Times New Roman', serif; text-align: center; border: 2px solid #8B0000;\">\n",
    "  About the Dataset\n",
    "</h1>"
   ]
  },
  {
   "cell_type": "markdown",
   "id": "a64d8654-738f-41db-964f-f7c8fabed13f",
   "metadata": {},
   "source": [
    "The Insurance Dataset is a widely used real-world dataset that contains information about individuals and the medical insurance charges billed to them. It consists of 1,338 records and 7 features, including both numerical and categorical variables. The dataset captures key personal and lifestyle attributes such as age, gender, body mass index (BMI), number of children, smoking status, and region of residence. The target variable, charges, represents the total medical insurance cost incurred by an individual. This dataset is commonly used for regression analysis, statistical testing (such as Z-test, T-test, ANOVA, F-test, and Chi-square test), and predictive modeling. It provides an excellent foundation for exploring the relationship between lifestyle factors and healthcare costs, making it highly valuable for both academic and practical applications in health data analytics."
   ]
  },
  {
   "cell_type": "markdown",
   "id": "f510d4d8-b21c-4f6d-9899-197ad43b5689",
   "metadata": {},
   "source": [
    "<h2 style=\"background-color: #8B0000; color: white; font-family: 'Times New Roman'; padding: 15px; text-align: center; font-size: 28px;\">\n",
    "  Insurance Dataset – Column Descriptions\n",
    "</h2>\n",
    "\n",
    "<table style=\"width: 100%; border-collapse: collapse; font-family: 'Times New Roman'; font-size: 18px; text-align: center;\">\n",
    "  <thead>\n",
    "    <tr style=\"background-color: #8B0000; color: white;\">\n",
    "      <th style=\"border: 2px solid black; padding: 10px;\">Column</th>\n",
    "      <th style=\"border: 2px solid black; padding: 10px;\">Data Type</th>\n",
    "      <th style=\"border: 2px solid black; padding: 10px;\">Description</th>\n",
    "    </tr>\n",
    "  </thead>\n",
    "  <tbody>\n",
    "    <tr>\n",
    "      <td style=\"border: 1px solid black; padding: 10px;\"><b>age</b></td>\n",
    "      <td style=\"border: 1px solid black; padding: 10px;\">Integer</td>\n",
    "      <td style=\"border: 1px solid black; padding: 10px;\">Age of the policyholder (customer).</td>\n",
    "    </tr>\n",
    "    <tr>\n",
    "      <td style=\"border: 1px solid black; padding: 10px;\"><b>sex</b></td>\n",
    "      <td style=\"border: 1px solid black; padding: 10px;\">Category</td>\n",
    "      <td style=\"border: 1px solid black; padding: 10px;\">Gender of the customer – \"male\" or \"female\".</td>\n",
    "    </tr>\n",
    "    <tr>\n",
    "      <td style=\"border: 1px solid black; padding: 10px;\"><b>bmi</b></td>\n",
    "      <td style=\"border: 1px solid black; padding: 10px;\">Float</td>\n",
    "      <td style=\"border: 1px solid black; padding: 10px;\">Body Mass Index – a health indicator based on height and weight.</td>\n",
    "    </tr>\n",
    "    <tr>\n",
    "      <td style=\"border: 1px solid black; padding: 10px;\"><b>children</b></td>\n",
    "      <td style=\"border: 1px solid black; padding: 10px;\">Integer</td>\n",
    "      <td style=\"border: 1px solid black; padding: 10px;\">Number of children/dependents covered by insurance.</td>\n",
    "    </tr>\n",
    "    <tr>\n",
    "      <td style=\"border: 1px solid black; padding: 10px;\"><b>smoker</b></td>\n",
    "      <td style=\"border: 1px solid black; padding: 10px;\">Category</td>\n",
    "      <td style=\"border: 1px solid black; padding: 10px;\">Whether the customer is a smoker – \"yes\" or \"no\".</td>\n",
    "    </tr>\n",
    "    <tr>\n",
    "      <td style=\"border: 1px solid black; padding: 10px;\"><b>region</b></td>\n",
    "      <td style=\"border: 1px solid black; padding: 10px;\">Category</td>\n",
    "      <td style=\"border: 1px solid black; padding: 10px;\">U.S. residential region – northeast, northwest, southeast, or southwest.</td>\n",
    "    </tr>\n",
    "    <tr>\n",
    "      <td style=\"border: 1px solid black; padding: 10px;\"><b>charges</b></td>\n",
    "      <td style=\"border: 1px solid black; padding: 10px;\">Float</td>\n",
    "      <td style=\"border: 1px solid black; padding: 10px;\">Total insurance cost billed to the customer (target variable).</td>\n",
    "    </tr>\n",
    "  </tbody>\n",
    "</table>"
   ]
  },
  {
   "cell_type": "markdown",
   "id": "af9e4fc8-6dd6-450d-865e-93962fcebeed",
   "metadata": {},
   "source": [
    "<h1 style=\"background-color: #8B0000; color: white; padding: 16px; font-family: 'Times New Roman', serif; text-align: center; border: 2px solid #8B0000;\">\n",
    "  Loading Libraries\n",
    "</h1>"
   ]
  },
  {
   "cell_type": "code",
   "execution_count": 13,
   "id": "889650fe-2a68-4513-949d-17e9a3da2d8a",
   "metadata": {},
   "outputs": [],
   "source": [
    "# For Data Handling and visualization\n",
    "import pandas as pd\n",
    "import seaborn as sns\n",
    "import numpy as np\n",
    "import matplotlib.pyplot as plt\n",
    "\n",
    "# Statistical Testing Libraries\n",
    "import statistics as stat\n",
    "from scipy import stats\n",
    "from statsmodels.stats.weightstats import ztest\n",
    "from scipy.stats import ttest_ind\n",
    "from scipy.stats import chi2_contingency\n",
    "from scipy.stats import pearsonr\n",
    "\n",
    "# Preprocessing and modeling Libraries\n",
    "from sklearn.preprocessing import LabelEncoder,StandardScaler\n",
    "from sklearn.linear_model import LinearRegression\n",
    "from sklearn.model_selection import train_test_split\n",
    "\n",
    "# To handle Warnings\n",
    "import warnings\n",
    "warnings.filterwarnings(\"ignore\")"
   ]
  },
  {
   "cell_type": "markdown",
   "id": "62542648-a445-4a84-92fd-475f3e8ec4c8",
   "metadata": {},
   "source": [
    "<h1 style=\"background-color: #8B0000; color: white; padding: 16px; font-family: 'Times New Roman', serif; text-align: center; border: 2px solid #8B0000;\">\n",
    "  Data Exploration and Cleaning\n",
    "</h1>"
   ]
  },
  {
   "cell_type": "code",
   "execution_count": 15,
   "id": "1d6e7e76-a6d2-4bc9-bb9d-8f5c541f5e5b",
   "metadata": {},
   "outputs": [],
   "source": [
    "df=pd.read_csv(\"insurance.csv\")"
   ]
  },
  {
   "cell_type": "code",
   "execution_count": 16,
   "id": "0a487bd3-931f-41be-9e8f-c348a4c1ac2c",
   "metadata": {},
   "outputs": [
    {
     "data": {
      "text/html": [
       "<div>\n",
       "<style scoped>\n",
       "    .dataframe tbody tr th:only-of-type {\n",
       "        vertical-align: middle;\n",
       "    }\n",
       "\n",
       "    .dataframe tbody tr th {\n",
       "        vertical-align: top;\n",
       "    }\n",
       "\n",
       "    .dataframe thead th {\n",
       "        text-align: right;\n",
       "    }\n",
       "</style>\n",
       "<table border=\"1\" class=\"dataframe\">\n",
       "  <thead>\n",
       "    <tr style=\"text-align: right;\">\n",
       "      <th></th>\n",
       "      <th>age</th>\n",
       "      <th>sex</th>\n",
       "      <th>bmi</th>\n",
       "      <th>children</th>\n",
       "      <th>smoker</th>\n",
       "      <th>region</th>\n",
       "      <th>charges</th>\n",
       "    </tr>\n",
       "  </thead>\n",
       "  <tbody>\n",
       "    <tr>\n",
       "      <th>0</th>\n",
       "      <td>19</td>\n",
       "      <td>female</td>\n",
       "      <td>27.900</td>\n",
       "      <td>0</td>\n",
       "      <td>yes</td>\n",
       "      <td>southwest</td>\n",
       "      <td>16884.92400</td>\n",
       "    </tr>\n",
       "    <tr>\n",
       "      <th>1</th>\n",
       "      <td>18</td>\n",
       "      <td>male</td>\n",
       "      <td>33.770</td>\n",
       "      <td>1</td>\n",
       "      <td>no</td>\n",
       "      <td>southeast</td>\n",
       "      <td>1725.55230</td>\n",
       "    </tr>\n",
       "    <tr>\n",
       "      <th>2</th>\n",
       "      <td>28</td>\n",
       "      <td>male</td>\n",
       "      <td>33.000</td>\n",
       "      <td>3</td>\n",
       "      <td>no</td>\n",
       "      <td>southeast</td>\n",
       "      <td>4449.46200</td>\n",
       "    </tr>\n",
       "    <tr>\n",
       "      <th>3</th>\n",
       "      <td>33</td>\n",
       "      <td>male</td>\n",
       "      <td>22.705</td>\n",
       "      <td>0</td>\n",
       "      <td>no</td>\n",
       "      <td>northwest</td>\n",
       "      <td>21984.47061</td>\n",
       "    </tr>\n",
       "    <tr>\n",
       "      <th>4</th>\n",
       "      <td>32</td>\n",
       "      <td>male</td>\n",
       "      <td>28.880</td>\n",
       "      <td>0</td>\n",
       "      <td>no</td>\n",
       "      <td>northwest</td>\n",
       "      <td>3866.85520</td>\n",
       "    </tr>\n",
       "  </tbody>\n",
       "</table>\n",
       "</div>"
      ],
      "text/plain": [
       "   age     sex     bmi  children smoker     region      charges\n",
       "0   19  female  27.900         0    yes  southwest  16884.92400\n",
       "1   18    male  33.770         1     no  southeast   1725.55230\n",
       "2   28    male  33.000         3     no  southeast   4449.46200\n",
       "3   33    male  22.705         0     no  northwest  21984.47061\n",
       "4   32    male  28.880         0     no  northwest   3866.85520"
      ]
     },
     "execution_count": 16,
     "metadata": {},
     "output_type": "execute_result"
    }
   ],
   "source": [
    "df.head(5)"
   ]
  },
  {
   "cell_type": "code",
   "execution_count": 17,
   "id": "75c8caf9-75b3-401b-bd81-a88479812b66",
   "metadata": {},
   "outputs": [
    {
     "data": {
      "text/plain": [
       "(1338, 7)"
      ]
     },
     "execution_count": 17,
     "metadata": {},
     "output_type": "execute_result"
    }
   ],
   "source": [
    "df.shape"
   ]
  },
  {
   "cell_type": "code",
   "execution_count": 18,
   "id": "5fe0ba41-e27a-4fa1-b0ea-8c28d9f6914f",
   "metadata": {},
   "outputs": [
    {
     "data": {
      "text/plain": [
       "9366"
      ]
     },
     "execution_count": 18,
     "metadata": {},
     "output_type": "execute_result"
    }
   ],
   "source": [
    "df.size"
   ]
  },
  {
   "cell_type": "code",
   "execution_count": 19,
   "id": "b8a24023-65f7-463f-ada0-a2b345c3866e",
   "metadata": {},
   "outputs": [
    {
     "name": "stdout",
     "output_type": "stream",
     "text": [
      "<class 'pandas.core.frame.DataFrame'>\n",
      "RangeIndex: 1338 entries, 0 to 1337\n",
      "Data columns (total 7 columns):\n",
      " #   Column    Non-Null Count  Dtype  \n",
      "---  ------    --------------  -----  \n",
      " 0   age       1338 non-null   int64  \n",
      " 1   sex       1338 non-null   object \n",
      " 2   bmi       1338 non-null   float64\n",
      " 3   children  1338 non-null   int64  \n",
      " 4   smoker    1338 non-null   object \n",
      " 5   region    1338 non-null   object \n",
      " 6   charges   1338 non-null   float64\n",
      "dtypes: float64(2), int64(2), object(3)\n",
      "memory usage: 73.3+ KB\n"
     ]
    }
   ],
   "source": [
    "df.info()"
   ]
  },
  {
   "cell_type": "code",
   "execution_count": 20,
   "id": "f484bf4a-16eb-449e-b51a-89325a24f6e1",
   "metadata": {},
   "outputs": [
    {
     "data": {
      "text/html": [
       "<div>\n",
       "<style scoped>\n",
       "    .dataframe tbody tr th:only-of-type {\n",
       "        vertical-align: middle;\n",
       "    }\n",
       "\n",
       "    .dataframe tbody tr th {\n",
       "        vertical-align: top;\n",
       "    }\n",
       "\n",
       "    .dataframe thead th {\n",
       "        text-align: right;\n",
       "    }\n",
       "</style>\n",
       "<table border=\"1\" class=\"dataframe\">\n",
       "  <thead>\n",
       "    <tr style=\"text-align: right;\">\n",
       "      <th></th>\n",
       "      <th>count</th>\n",
       "      <th>mean</th>\n",
       "      <th>std</th>\n",
       "      <th>min</th>\n",
       "      <th>25%</th>\n",
       "      <th>50%</th>\n",
       "      <th>75%</th>\n",
       "      <th>max</th>\n",
       "    </tr>\n",
       "  </thead>\n",
       "  <tbody>\n",
       "    <tr>\n",
       "      <th>age</th>\n",
       "      <td>1338.0</td>\n",
       "      <td>39.207025</td>\n",
       "      <td>14.049960</td>\n",
       "      <td>18.0000</td>\n",
       "      <td>27.00000</td>\n",
       "      <td>39.000</td>\n",
       "      <td>51.000000</td>\n",
       "      <td>64.00000</td>\n",
       "    </tr>\n",
       "    <tr>\n",
       "      <th>bmi</th>\n",
       "      <td>1338.0</td>\n",
       "      <td>30.663397</td>\n",
       "      <td>6.098187</td>\n",
       "      <td>15.9600</td>\n",
       "      <td>26.29625</td>\n",
       "      <td>30.400</td>\n",
       "      <td>34.693750</td>\n",
       "      <td>53.13000</td>\n",
       "    </tr>\n",
       "    <tr>\n",
       "      <th>children</th>\n",
       "      <td>1338.0</td>\n",
       "      <td>1.094918</td>\n",
       "      <td>1.205493</td>\n",
       "      <td>0.0000</td>\n",
       "      <td>0.00000</td>\n",
       "      <td>1.000</td>\n",
       "      <td>2.000000</td>\n",
       "      <td>5.00000</td>\n",
       "    </tr>\n",
       "    <tr>\n",
       "      <th>charges</th>\n",
       "      <td>1338.0</td>\n",
       "      <td>13270.422265</td>\n",
       "      <td>12110.011237</td>\n",
       "      <td>1121.8739</td>\n",
       "      <td>4740.28715</td>\n",
       "      <td>9382.033</td>\n",
       "      <td>16639.912515</td>\n",
       "      <td>63770.42801</td>\n",
       "    </tr>\n",
       "  </tbody>\n",
       "</table>\n",
       "</div>"
      ],
      "text/plain": [
       "           count          mean           std        min         25%       50%  \\\n",
       "age       1338.0     39.207025     14.049960    18.0000    27.00000    39.000   \n",
       "bmi       1338.0     30.663397      6.098187    15.9600    26.29625    30.400   \n",
       "children  1338.0      1.094918      1.205493     0.0000     0.00000     1.000   \n",
       "charges   1338.0  13270.422265  12110.011237  1121.8739  4740.28715  9382.033   \n",
       "\n",
       "                   75%          max  \n",
       "age          51.000000     64.00000  \n",
       "bmi          34.693750     53.13000  \n",
       "children      2.000000      5.00000  \n",
       "charges   16639.912515  63770.42801  "
      ]
     },
     "execution_count": 20,
     "metadata": {},
     "output_type": "execute_result"
    }
   ],
   "source": [
    "df.describe().T"
   ]
  },
  {
   "cell_type": "code",
   "execution_count": 21,
   "id": "57af1be6-8f78-4185-94df-300036dfb659",
   "metadata": {},
   "outputs": [
    {
     "data": {
      "text/plain": [
       "age         0\n",
       "sex         0\n",
       "bmi         0\n",
       "children    0\n",
       "smoker      0\n",
       "region      0\n",
       "charges     0\n",
       "dtype: int64"
      ]
     },
     "execution_count": 21,
     "metadata": {},
     "output_type": "execute_result"
    }
   ],
   "source": [
    "df.isnull().sum()"
   ]
  },
  {
   "cell_type": "code",
   "execution_count": 22,
   "id": "cb0283dc-503e-4299-b0cd-adf63c7b4fee",
   "metadata": {},
   "outputs": [
    {
     "data": {
      "text/plain": [
       "1"
      ]
     },
     "execution_count": 22,
     "metadata": {},
     "output_type": "execute_result"
    }
   ],
   "source": [
    "df.duplicated().sum()"
   ]
  },
  {
   "cell_type": "code",
   "execution_count": 23,
   "id": "a5a9cf50-61f8-496f-96d5-d5154ebdf84a",
   "metadata": {},
   "outputs": [],
   "source": [
    "df.drop_duplicates(inplace=True)"
   ]
  },
  {
   "cell_type": "code",
   "execution_count": 24,
   "id": "944b3a82-010c-4f4d-986e-113f44166df4",
   "metadata": {},
   "outputs": [
    {
     "data": {
      "text/plain": [
       "0"
      ]
     },
     "execution_count": 24,
     "metadata": {},
     "output_type": "execute_result"
    }
   ],
   "source": [
    "df.duplicated().sum()"
   ]
  },
  {
   "cell_type": "markdown",
   "id": "fcc5e5ae-2d1e-4817-8591-02d5eb34b542",
   "metadata": {},
   "source": [
    "<h1 style=\"background-color: #8B0000; color: white; padding: 16px; font-family: 'Times New Roman', serif; text-align: center; border: 2px solid #8B0000;\">\n",
    "  EDA\n",
    "</h1>"
   ]
  },
  {
   "cell_type": "markdown",
   "id": "c84c9eb4-0bca-4f61-be13-63dd71181522",
   "metadata": {},
   "source": [
    "# Correlation Heatmap :"
   ]
  },
  {
   "cell_type": "code",
   "execution_count": 27,
   "id": "e0af8ec8-3404-422e-bc49-8a655e2ab438",
   "metadata": {},
   "outputs": [
    {
     "data": {
      "image/png": "[encoded data removed]",
      "text/plain": [
       "<Figure size 1000x600 with 2 Axes>"
      ]
     },
     "metadata": {},
     "output_type": "display_data"
    }
   ],
   "source": [
    "# Select only numeric columns\n",
    "numeric_df = df.select_dtypes(include=['number'])\n",
    "\n",
    "# Create correlation matrix\n",
    "correlation = numeric_df.corr()\n",
    "\n",
    "# Plot the heatmap\n",
    "plt.figure(figsize=(10, 6))\n",
    "sns.heatmap(correlation, annot=True, cmap='Reds', fmt=\".2f\")\n",
    "plt.title(\"Correlation Heatmap\")\n",
    "plt.show()"
   ]
  },
  {
   "cell_type": "markdown",
   "id": "1c596b01-1c4d-4faa-9bfa-f158e8ce74d0",
   "metadata": {},
   "source": [
    "## Insight :\n",
    "### •\tcharges vs age (0.30): Moderate positive correlation — older people tend to have higher medical expenses.\n",
    "### •\tcharges vs bmi (0.20): Weak correlation — higher BMI may slightly increase charges.\n",
    "### •\tcharges vs children (0.07): Very weak — number of children has minimal effect on charges.\n",
    "### •\tbmi vs age (0.11): Slight correlation — not meaningful.\n"
   ]
  },
  {
   "cell_type": "markdown",
   "id": "615f1f17-37c9-4cec-a81e-2e2ec830a71f",
   "metadata": {},
   "source": [
    "# Pair Plot :"
   ]
  },
  {
   "cell_type": "code",
   "execution_count": 30,
   "id": "31c760f8-0692-4038-ba45-f74008820ea4",
   "metadata": {},
   "outputs": [
    {
     "data": {
      "image/png": "[encoded data removed]",
      "text/plain": [
       "<Figure size 1000x1000 with 14 Axes>"
      ]
     },
     "metadata": {},
     "output_type": "display_data"
    }
   ],
   "source": [
    "# Select only numerical columns\n",
    "numerical_df = df.select_dtypes(include=['int64', 'float64'])\n",
    "\n",
    "# Create the pair plot\n",
    "sns.pairplot(numerical_df, diag_kind='kde', corner=True)\n",
    "plt.suptitle(\"Pair Plot of Numerical Features\", y=1.02)\n",
    "plt.show()"
   ]
  },
  {
   "cell_type": "markdown",
   "id": "ed377850-6171-4952-a49f-1ecd0d73087c",
   "metadata": {},
   "source": [
    "## Insight :\n",
    "### •\tCharges vs Age: Shows a moderate positive relationship – older individuals tend to incur higher medical charges.\n",
    "### •\tCharges vs BMI: Weak correlation – higher BMI may slightly increase charges, especially for those with obesity.\n",
    "### •\tCharges vs Children: No clear pattern – the number of children doesn’t significantly affect medical expenses."
   ]
  },
  {
   "cell_type": "markdown",
   "id": "349892b6-78c4-4546-a559-f5cfdb931745",
   "metadata": {},
   "source": [
    "<h1 style=\"background-color: #8B0000; color: white; padding: 16px; font-family: 'Times New Roman', serif; text-align: center; border: 2px solid #8B0000;\">\n",
    "  Statistical Tests\n",
    "</h1>"
   ]
  },
  {
   "cell_type": "markdown",
   "id": "1973c2f8-6c4f-45a7-9123-0f26d146baf8",
   "metadata": {},
   "source": [
    "<h1 style=\"background-color: #8B0000; color: white; padding: 16px; font-family: 'Times New Roman', serif; text-align: center; border: 2px solid #8B0000;\">\n",
    "  Z Test\n",
    "</h1>"
   ]
  },
  {
   "cell_type": "markdown",
   "id": "990faa07-3088-42a4-a0b6-369288fd8b03",
   "metadata": {},
   "source": [
    "<h2 style=\"background-color: #FFFDD0; color: #8B0000; font-family: 'Times New Roman', serif; padding: 15px; text-align: center; border: 2px solid #8B0000;\">\n",
    "  Impact of Smoking on Medical Insurance Charges\n",
    "</h2>"
   ]
  },
  {
   "cell_type": "code",
   "execution_count": 35,
   "id": "6789dcea-c91d-4398-823b-e1e664274dd5",
   "metadata": {},
   "outputs": [],
   "source": [
    "smokers = df[df['smoker'] == 'yes']['charges']\n",
    "nonsmokers = df[df['smoker'] == 'no']['charges']\n",
    "z_stat,p_val=ztest(smokers,nonsmokers,value=0)"
   ]
  },
  {
   "cell_type": "code",
   "execution_count": 36,
   "id": "e0a2c298-7bdb-435c-88c5-2090aae3e112",
   "metadata": {},
   "outputs": [
    {
     "data": {
      "text/plain": [
       "0.0"
      ]
     },
     "execution_count": 36,
     "metadata": {},
     "output_type": "execute_result"
    }
   ],
   "source": [
    "p_val"
   ]
  },
  {
   "cell_type": "code",
   "execution_count": 37,
   "id": "cfda9367-3acf-4dd5-9356-28bbb968512b",
   "metadata": {},
   "outputs": [
    {
     "name": "stdout",
     "output_type": "stream",
     "text": [
      "Null Hypothesis Rejected\n"
     ]
    }
   ],
   "source": [
    "if p_val<0.05:\n",
    "    print(\"Null Hypothesis Rejected\")\n",
    "\n",
    "else:\n",
    "    print(\"Null Hypothesis Accepted\")"
   ]
  },
  {
   "cell_type": "markdown",
   "id": "fa5e8cfb-433b-40bf-b289-912987cd9a38",
   "metadata": {},
   "source": [
    "### There is a statistically significant difference in the average medical charges between smokers and non-smokers."
   ]
  },
  {
   "cell_type": "markdown",
   "id": "9684d863-1cad-4abd-b952-df8580888f88",
   "metadata": {},
   "source": [
    "# Visualiztion :"
   ]
  },
  {
   "cell_type": "code",
   "execution_count": 40,
   "id": "89bded13-3b7f-4073-8ada-39d22525324c",
   "metadata": {},
   "outputs": [
    {
     "data": {
      "image/png": "[encoded data removed]",
      "text/plain": [
       "<Figure size 600x500 with 1 Axes>"
      ]
     },
     "metadata": {},
     "output_type": "display_data"
    }
   ],
   "source": [
    "avg_charges_by_smoker = df.groupby('smoker')['charges'].mean().reset_index()\n",
    "\n",
    "plt.figure(figsize=(6, 5))\n",
    "sns.barplot(x='smoker', y='charges', data=avg_charges_by_smoker, palette='Reds')\n",
    "\n",
    "# Labels and title\n",
    "plt.title('Average Medical Charges by Smoking Status')\n",
    "plt.xlabel('Smoking Status')\n",
    "plt.ylabel('Average Charges')\n",
    "plt.tight_layout()\n",
    "plt.show()"
   ]
  },
  {
   "cell_type": "markdown",
   "id": "22d6177f-4164-4746-9cdb-c112cde3dddb",
   "metadata": {},
   "source": [
    "## Insight :\n",
    "### •\tSmoker status does affect insurance charges.\n",
    "### •\tThe average charges for smokers are significantly higher than those for non-smokers.\n"
   ]
  },
  {
   "cell_type": "markdown",
   "id": "65ead7da-4004-4384-80b1-946ac0590298",
   "metadata": {},
   "source": [
    "<table border=\"1\" cellpadding=\"12\" cellspacing=\"0\" style=\"border-collapse: collapse; width: 100%; font-family: Arial, sans-serif; text-align: center; border: 2px solid #8B0000;\">\n",
    "  <thead style=\"background-color: #8B0000; color: white;\">\n",
    "    <tr>\n",
    "      <th style=\"border: 2px solid #8B0000;\">Group</th>\n",
    "      <th style=\"border: 2px solid #8B0000;\">Average Charges</th>\n",
    "      <th style=\"border: 2px solid #8B0000;\">Reason</th>\n",
    "    </tr>\n",
    "  </thead>\n",
    "  <tbody>\n",
    "    <tr>\n",
    "      <td style=\"border: 1px solid #8B0000;\">🚭 Non-smokers</td>\n",
    "      <td style=\"border: 1px solid #8B0000;\">Lower</td>\n",
    "      <td style=\"border: 1px solid #8B0000;\">Lower risk = fewer claims</td>\n",
    "    </tr>\n",
    "    <tr>\n",
    "      <td style=\"border: 1px solid #8B0000;\">🚬 Smokers</td>\n",
    "      <td style=\"border: 1px solid #8B0000;\">Much higher</td>\n",
    "      <td style=\"border: 1px solid #8B0000;\">Higher risk = more medical bills</td>\n",
    "    </tr>\n",
    "  </tbody>\n",
    "</table>"
   ]
  },
  {
   "cell_type": "markdown",
   "id": "41d40ba3-c4d5-4efb-8d85-faa55e68aef5",
   "metadata": {},
   "source": [
    "<h1 style=\"background-color: #8B0000; color: white; padding: 16px; font-family: 'Times New Roman', serif; text-align: center; border: 2px solid #8B0000;\">\n",
    "  T Test\n",
    "</h1>"
   ]
  },
  {
   "cell_type": "markdown",
   "id": "c8e40254-b454-45c1-aa8b-c5f896e0b12b",
   "metadata": {},
   "source": [
    "<h2 style=\"background-color: #FFFDD0; color: #8B0000; font-family: 'Times New Roman', serif; padding: 15px; text-align: center; border: 2px solid #8B0000;\">\n",
    "  Gender-Based Comparison of Insurance Charges\n",
    "</h2>"
   ]
  },
  {
   "cell_type": "code",
   "execution_count": 45,
   "id": "1acb2210-60f5-4f81-9aee-2c50ae263205",
   "metadata": {},
   "outputs": [],
   "source": [
    "male_charges = df[df['sex'] == 'male']['charges']\n",
    "female_charges = df[df['sex'] == 'female']['charges']\n",
    "t_stat, p_val1 = ttest_ind(male_charges,female_charges)"
   ]
  },
  {
   "cell_type": "code",
   "execution_count": 46,
   "id": "9762702d-82bf-4d38-bcd9-8bbac684772d",
   "metadata": {},
   "outputs": [
    {
     "data": {
      "text/plain": [
       "0.0338207919951195"
      ]
     },
     "execution_count": 46,
     "metadata": {},
     "output_type": "execute_result"
    }
   ],
   "source": [
    "p_val1"
   ]
  },
  {
   "cell_type": "code",
   "execution_count": 47,
   "id": "d6ad9ed1-0900-4276-b4e3-85f27f61f90a",
   "metadata": {},
   "outputs": [
    {
     "name": "stdout",
     "output_type": "stream",
     "text": [
      "null hypothesis rejected\n"
     ]
    }
   ],
   "source": [
    "if p_val < 0.05:\n",
    "    print(\"null hypothesis rejected\")\n",
    "else:\n",
    "    print(\"null hypothesis accepted\")"
   ]
  },
  {
   "cell_type": "markdown",
   "id": "54cb4e05-650f-45b9-a7b2-c071d667a6a9",
   "metadata": {},
   "source": [
    "### There is a statistically significant difference in the average medical charges between males and females."
   ]
  },
  {
   "cell_type": "markdown",
   "id": "98d20764-65c0-40b2-8e21-81e3d4338c69",
   "metadata": {},
   "source": [
    "# Visualization :"
   ]
  },
  {
   "cell_type": "code",
   "execution_count": 50,
   "id": "537fb2a0-8e88-4686-af0d-52a55f0960ba",
   "metadata": {},
   "outputs": [
    {
     "data": {
      "image/png": "[encoded data removed]",
      "text/plain": [
       "<Figure size 600x500 with 1 Axes>"
      ]
     },
     "metadata": {},
     "output_type": "display_data"
    }
   ],
   "source": [
    "# Calculate average charges grouped by sex\n",
    "avg_charges_by_sex = df.groupby('sex')['charges'].mean().reset_index()\n",
    "\n",
    "# Create bar plot\n",
    "plt.figure(figsize=(6, 5))\n",
    "sns.barplot(x='sex', y='charges', data=avg_charges_by_sex, palette='Reds')\n",
    "\n",
    "# Add labels and title\n",
    "plt.title('Average Medical Charges by Sex')\n",
    "plt.xlabel('Sex')\n",
    "plt.ylabel('Average Charges')\n",
    "plt.tight_layout()\n",
    "plt.show()"
   ]
  },
  {
   "cell_type": "markdown",
   "id": "fa07c426-69c2-4a0d-9f58-92c41c763846",
   "metadata": {},
   "source": [
    "<table border=\"1\" cellpadding=\"12\" cellspacing=\"0\" style=\"border-collapse: collapse; width: 100%; font-family: Arial, sans-serif; text-align: center; border: 2px solid #8B0000;\">\n",
    "  <thead style=\"background-color: #8B0000; color: white;\">\n",
    "    <tr>\n",
    "      <th style=\"border: 2px solid #8B0000;\">Group</th>\n",
    "      <th style=\"border: 2px solid #8B0000;\">Average Charges</th>\n",
    "      <th style=\"border: 2px solid #8B0000;\">Possible Reason</th>\n",
    "    </tr>\n",
    "  </thead>\n",
    "  <tbody>\n",
    "    <tr>\n",
    "      <td style=\"border: 1px solid #8B0000;\">👨 Male</td>\n",
    "      <td style=\"border: 1px solid #8B0000;\">Higher</td>\n",
    "      <td style=\"border: 1px solid #8B0000;\">Could reflect higher BMI, more smokers, or other risk factors</td>\n",
    "    </tr>\n",
    "    <tr>\n",
    "      <td style=\"border: 1px solid #8B0000;\">👩 Female</td>\n",
    "      <td style=\"border: 1px solid #8B0000;\">Lower</td>\n",
    "      <td style=\"border: 1px solid #8B0000;\">Possibly fewer high-risk behaviors or better health management</td>\n",
    "    </tr>\n",
    "  </tbody>\n",
    "</table>"
   ]
  },
  {
   "cell_type": "markdown",
   "id": "bcc737fe-24ae-4d3d-911a-16e6242f59a8",
   "metadata": {},
   "source": [
    "## Insight :\n",
    "### The T-test conducted between male and female groups in relation to insurance charges revealed a statistically significant difference in the mean charges (p-value < 0.05), This indicates that gender plays a role in determining medical charges.\n",
    "### On average, males tend to have slightly higher charges compared to females. This difference could be influenced by factors such as higher average BMI, more frequent smoking habits, or other lifestyle-related risks among males."
   ]
  },
  {
   "cell_type": "markdown",
   "id": "f5384cdf-6924-4d5a-8fb5-1fdc4aed08f5",
   "metadata": {},
   "source": [
    "<h1 style=\"background-color: #8B0000; color: white; padding: 16px; font-family: 'Times New Roman', serif; text-align: center; border: 2px solid #8B0000;\">\n",
    "  Chi Square Test\n",
    "</h1>"
   ]
  },
  {
   "cell_type": "markdown",
   "id": "1bde6d14-1a90-4648-8a19-b4bad2ba52c7",
   "metadata": {},
   "source": [
    "<h2 style=\"background-color: #FFFDD0; color: #8B0000; font-family: 'Times New Roman', serif; padding: 15px; text-align: center; border: 2px solid #8B0000;\">\n",
    "  Association Between Sex and Smoking Status \n",
    "</h2>"
   ]
  },
  {
   "cell_type": "code",
   "execution_count": 55,
   "id": "8752ded9-3a1c-47aa-a020-72bd7c8b6c9b",
   "metadata": {},
   "outputs": [
    {
     "name": "stdout",
     "output_type": "stream",
     "text": [
      "Contingency Table:\n",
      " smoker   no  yes\n",
      "sex             \n",
      "female  547  115\n",
      "male    516  159\n",
      "\n",
      "Chi-Square Test Results:\n",
      "Chi2 Statistic: 7.469139330086637\n",
      "Degrees of Freedom: 1\n",
      "P-value: 0.0062765550120107375\n",
      "\n",
      "Expected Frequencies:\n",
      " smoker          no         yes\n",
      "sex                           \n",
      "female  526.332087  135.667913\n",
      "male    536.667913  138.332087\n",
      "There is a statistically significant association between sex and smoking.\n"
     ]
    }
   ],
   "source": [
    "# Create a contingency table\n",
    "contingency_table = pd.crosstab(df['sex'], df['smoker'])\n",
    "\n",
    "# Display the contingency table\n",
    "print(\"Contingency Table:\\n\", contingency_table)\n",
    "\n",
    "# Perform Chi-Square Test\n",
    "chi2, p, dof, expected = chi2_contingency(contingency_table)\n",
    "\n",
    "# Display results\n",
    "print(\"\\nChi-Square Test Results:\")\n",
    "print(f\"Chi2 Statistic: {chi2}\")\n",
    "print(f\"Degrees of Freedom: {dof}\")\n",
    "print(f\"P-value: {p}\")\n",
    "print(\"\\nExpected Frequencies:\\n\", pd.DataFrame(expected, index=contingency_table.index, columns=contingency_table.columns))\n",
    "\n",
    "# Interpretation\n",
    "if p < 0.05:\n",
    "    print(\"There is a statistically significant association between sex and smoking.\")\n",
    "else:\n",
    "    print(\"No significant association found between sex and smoking.\")"
   ]
  },
  {
   "cell_type": "markdown",
   "id": "1f3d7fe7-e2af-4b44-9b60-f518b66df554",
   "metadata": {},
   "source": [
    "### There is a statistically significant relationship between a person’s sex and their smoking status.\n",
    "\n",
    "### This suggests that smoking behavior differs between males and females in the dataset, and this difference is not due to random chance."
   ]
  },
  {
   "cell_type": "markdown",
   "id": "6b15981f-7dc8-4e8f-8ed5-7d50ad1b8be5",
   "metadata": {},
   "source": [
    "# Visualization :"
   ]
  },
  {
   "cell_type": "code",
   "execution_count": 58,
   "id": "cf21ee1a-5950-48f3-b2b6-5c2b347effd1",
   "metadata": {},
   "outputs": [
    {
     "data": {
      "image/png": "[encoded data removed]",
      "text/plain": [
       "<Figure size 800x500 with 1 Axes>"
      ]
     },
     "metadata": {},
     "output_type": "display_data"
    }
   ],
   "source": [
    "# Set style\n",
    "sns.set(style=\"whitegrid\")\n",
    "\n",
    "# Create bar plot\n",
    "plt.figure(figsize=(8, 5))\n",
    "sns.countplot(data=df, x='sex', hue='smoker', palette='Reds')\n",
    "\n",
    "# Add title and labels\n",
    "plt.title('Smoking Status by Sex', fontsize=14)\n",
    "plt.xlabel('Sex', fontsize=12)\n",
    "plt.ylabel('Count', fontsize=12)\n",
    "plt.legend(title='Smoker')\n",
    "\n",
    "# Show plot\n",
    "plt.tight_layout()\n",
    "plt.show()"
   ]
  },
  {
   "cell_type": "markdown",
   "id": "bd971341-690b-4c29-89ee-9ea632b186c6",
   "metadata": {},
   "source": [
    "## Insight :\n",
    "### There is a clear imbalance in smoking habits between the genders.\n",
    "### While both genders show a majority of non-smokers, the number of male smokers is notably higher than female smokers."
   ]
  },
  {
   "cell_type": "markdown",
   "id": "dc321cb4-9e8e-4cc4-b830-4502621a1888",
   "metadata": {},
   "source": [
    "<h1 style=\"background-color: #8B0000; color: white; padding: 16px; font-family: 'Times New Roman', serif; text-align: center; border: 2px solid #8B0000;\">\n",
    "  ANOVA\n",
    "</h1>"
   ]
  },
  {
   "cell_type": "markdown",
   "id": "8155f0f4-ba32-474f-895d-4358dd2f09fa",
   "metadata": {},
   "source": [
    "<h2 style=\"background-color: #FFFDD0; color: #8B0000; font-family: 'Times New Roman', serif; padding: 15px; text-align: center; border: 2px solid #8B0000;\">\n",
    "  Analysis of Variance Between BMI Groups and Medical Charges\n",
    "</h2>"
   ]
  },
  {
   "cell_type": "code",
   "execution_count": 62,
   "id": "d3c17ffe-9e4e-4d62-999e-76d0afcda02d",
   "metadata": {},
   "outputs": [],
   "source": [
    "from scipy.stats import f_oneway\n",
    "\n",
    "# Create BMI category column\n",
    "def bmi_category(bmi):\n",
    "    if bmi < 18.5:\n",
    "        return 'Underweight'\n",
    "    elif 18.5 <= bmi < 25:\n",
    "        return 'Normal'\n",
    "    elif 25 <= bmi < 30:\n",
    "        return 'Overweight'\n",
    "    else:\n",
    "        return 'Obese'\n",
    "\n",
    "df['bmi_group'] = df['bmi'].apply(bmi_category)\n",
    "\n",
    "# Group charges by BMI group using groupby\n",
    "grouped_charges = df.groupby('bmi_group')['charges'].apply(list)\n"
   ]
  },
  {
   "cell_type": "code",
   "execution_count": 63,
   "id": "983e4854-7aa1-40cc-9b3b-7b61ac0c92c1",
   "metadata": {},
   "outputs": [
    {
     "data": {
      "text/plain": [
       "bmi_group\n",
       "Normal         [21984.47061, 1837.237, 2395.17155, 14451.8351...\n",
       "Obese          [1725.5523, 4449.462, 8240.5896, 1826.843, 110...\n",
       "Overweight     [16884.924, 3866.8552, 3756.6216, 7281.5056, 6...\n",
       "Underweight    [2775.19215, 32734.1863, 1694.7964, 9644.2525,...\n",
       "Name: charges, dtype: object"
      ]
     },
     "execution_count": 63,
     "metadata": {},
     "output_type": "execute_result"
    }
   ],
   "source": [
    "grouped_charges"
   ]
  },
  {
   "cell_type": "code",
   "execution_count": 64,
   "id": "eb75d551-d547-4774-9a14-ad5b3afddef1",
   "metadata": {},
   "outputs": [],
   "source": [
    "# Perform ANOVA using unpacked grouped values\n",
    "f_stat, p_value = f_oneway(*grouped_charges)"
   ]
  },
  {
   "cell_type": "code",
   "execution_count": 65,
   "id": "4212e5a0-f0aa-4425-8ff3-bbe15023b13c",
   "metadata": {},
   "outputs": [
    {
     "name": "stdout",
     "output_type": "stream",
     "text": [
      "F-statistic: 18.874106341950046\n",
      "p-value: 0.0\n"
     ]
    }
   ],
   "source": [
    "# Print results\n",
    "print(\"F-statistic:\", f_stat)\n",
    "print(\"p-value:\", p_val)"
   ]
  },
  {
   "cell_type": "code",
   "execution_count": 66,
   "id": "fc5cee8e-46c2-43cb-9643-44ee8a4c87be",
   "metadata": {},
   "outputs": [
    {
     "name": "stdout",
     "output_type": "stream",
     "text": [
      "There are significant differences between the groups.\n"
     ]
    }
   ],
   "source": [
    "if p_value < 0.05:\n",
    "    print(\"There are significant differences between the groups.\")\n",
    "else:\n",
    "    print(\"There are no significant differences between the groups.\")"
   ]
  },
  {
   "cell_type": "markdown",
   "id": "af47d038-cb7e-4085-ba0d-5b7bb525abaf",
   "metadata": {},
   "source": [
    "### There is a statistically significant difference in average medical charges among the different BMI groups."
   ]
  },
  {
   "cell_type": "markdown",
   "id": "d0f52cf7-dd1b-4e83-b3e7-9fedd896f7b0",
   "metadata": {},
   "source": [
    "# Visualization :"
   ]
  },
  {
   "cell_type": "code",
   "execution_count": 69,
   "id": "56eaaad1-768f-4753-a714-6baf2ed19870",
   "metadata": {},
   "outputs": [
    {
     "data": {
      "image/png": "[encoded data removed]",
      "text/plain": [
       "<Figure size 800x500 with 1 Axes>"
      ]
     },
     "metadata": {},
     "output_type": "display_data"
    }
   ],
   "source": [
    "# Group by bmi_group and calculate average charges\n",
    "bmi_avg_charges = df.groupby('bmi_group')['charges'].mean().reset_index()\n",
    "\n",
    "# Sort for better visualization\n",
    "bmi_avg_charges = bmi_avg_charges.sort_values(by='charges')\n",
    "\n",
    "# Plot\n",
    "plt.figure(figsize=(8, 5))\n",
    "sns.barplot(data=bmi_avg_charges, x='bmi_group', y='charges', palette='Reds')\n",
    "\n",
    "plt.title('Average Charges by BMI Group')\n",
    "plt.xlabel('BMI Group')\n",
    "plt.ylabel('Average Charges')\n",
    "plt.tight_layout()\n",
    "plt.show()"
   ]
  },
  {
   "cell_type": "markdown",
   "id": "7c7e4b1c-d410-4658-aa78-c44aca12f498",
   "metadata": {},
   "source": [
    "<table style=\"border-collapse: collapse; width: 100%; font-family: Arial, sans-serif; text-align: center;\">\n",
    "  <thead style=\"background-color: #800000; color: white;\">\n",
    "    <tr>\n",
    "      <th style=\"padding: 12px; border: 1px solid #ddd;\">BMI Group</th>\n",
    "      <th style=\"padding: 12px; border: 1px solid #ddd;\">Average Charges</th>\n",
    "      <th style=\"padding: 12px; border: 1px solid #ddd;\">Possible Reason</th>\n",
    "    </tr>\n",
    "  </thead>\n",
    "  <tbody>\n",
    "    <tr>\n",
    "      <td style=\"padding: 12px; border: 1px solid #ddd;\">🦴 Underweight</td>\n",
    "      <td style=\"padding: 12px; border: 1px solid #ddd;\">Lower</td>\n",
    "      <td style=\"padding: 12px; border: 1px solid #ddd;\">Fewer chronic conditions, lower health risks</td>\n",
    "    </tr>\n",
    "    <tr>\n",
    "      <td style=\"padding: 12px; border: 1px solid #ddd;\">💪 Normal</td>\n",
    "      <td style=\"padding: 12px; border: 1px solid #ddd;\">Moderate</td>\n",
    "      <td style=\"padding: 12px; border: 1px solid #ddd;\">Healthy BMI range with balanced health</td>\n",
    "    </tr>\n",
    "    <tr>\n",
    "      <td style=\"padding: 12px; border: 1px solid #ddd;\">🍔 Overweight</td>\n",
    "      <td style=\"padding: 12px; border: 1px solid #ddd;\">High</td>\n",
    "      <td style=\"padding: 12px; border: 1px solid #ddd;\">Lifestyle-related risks increase medical expenses</td>\n",
    "    </tr>\n",
    "    <tr>\n",
    "      <td style=\"padding: 12px; border: 1px solid #ddd;\">🧁 Obese</td>\n",
    "      <td style=\"padding: 12px; border: 1px solid #ddd;\">Very High</td>\n",
    "      <td style=\"padding: 12px; border: 1px solid #ddd;\">Higher chance of chronic diseases like diabetes, heart issues</td>\n",
    "    </tr>\n",
    "  </tbody>\n",
    "</table>"
   ]
  },
  {
   "cell_type": "markdown",
   "id": "ea2c694d-34e4-4754-97e6-f4fcbf45e68a",
   "metadata": {},
   "source": [
    "## Insight :\n",
    "### There is a significant difference in medical charges among the BMI categories (Underweight, Normal, Overweight, and Obese).\n",
    "### This means that average medical charges vary meaningfully based on BMI group.\n",
    "### •\tIndividuals in the Obese group tend to have the highest charges, likely due to increased risk of chronic health issues like diabetes, heart  disease, and hypertension.\n",
    "### •\tThose in the Normal and Underweight categories generally incur lower charges, reflecting lower health risks on average."
   ]
  },
  {
   "cell_type": "markdown",
   "id": "8f1fb9ef-4d19-4ebd-98cd-2202fd15d951",
   "metadata": {},
   "source": [
    "<h1 style=\"background-color: #8B0000; color: white; padding: 16px; font-family: 'Times New Roman', serif; text-align: center; border: 2px solid #8B0000;\">\n",
    "  F Test\n",
    "</h1>"
   ]
  },
  {
   "cell_type": "markdown",
   "id": "f6f87e74-7da3-4dfc-a273-e0e286604d02",
   "metadata": {},
   "source": [
    "<h2 style=\"background-color: #FFFDD0; color: #8B0000; font-family: 'Times New Roman', serif; padding: 15px; text-align: center; border: 2px solid #8B0000;\">\n",
    "  Assessing the Overall Significance of the Regression Model\n",
    "</h2>"
   ]
  },
  {
   "cell_type": "code",
   "execution_count": 74,
   "id": "69a104f3-549b-4dc9-a8d1-a0c6f23d1415",
   "metadata": {},
   "outputs": [],
   "source": [
    "categorical_cols = df.select_dtypes(include = [\"object\"])"
   ]
  },
  {
   "cell_type": "code",
   "execution_count": 75,
   "id": "e4d50fde-68e6-404c-ab01-e0202499afa5",
   "metadata": {},
   "outputs": [
    {
     "data": {
      "text/html": [
       "<div>\n",
       "<style scoped>\n",
       "    .dataframe tbody tr th:only-of-type {\n",
       "        vertical-align: middle;\n",
       "    }\n",
       "\n",
       "    .dataframe tbody tr th {\n",
       "        vertical-align: top;\n",
       "    }\n",
       "\n",
       "    .dataframe thead th {\n",
       "        text-align: right;\n",
       "    }\n",
       "</style>\n",
       "<table border=\"1\" class=\"dataframe\">\n",
       "  <thead>\n",
       "    <tr style=\"text-align: right;\">\n",
       "      <th></th>\n",
       "      <th>sex</th>\n",
       "      <th>smoker</th>\n",
       "      <th>region</th>\n",
       "      <th>bmi_group</th>\n",
       "    </tr>\n",
       "  </thead>\n",
       "  <tbody>\n",
       "    <tr>\n",
       "      <th>0</th>\n",
       "      <td>female</td>\n",
       "      <td>yes</td>\n",
       "      <td>southwest</td>\n",
       "      <td>Overweight</td>\n",
       "    </tr>\n",
       "    <tr>\n",
       "      <th>1</th>\n",
       "      <td>male</td>\n",
       "      <td>no</td>\n",
       "      <td>southeast</td>\n",
       "      <td>Obese</td>\n",
       "    </tr>\n",
       "    <tr>\n",
       "      <th>2</th>\n",
       "      <td>male</td>\n",
       "      <td>no</td>\n",
       "      <td>southeast</td>\n",
       "      <td>Obese</td>\n",
       "    </tr>\n",
       "    <tr>\n",
       "      <th>3</th>\n",
       "      <td>male</td>\n",
       "      <td>no</td>\n",
       "      <td>northwest</td>\n",
       "      <td>Normal</td>\n",
       "    </tr>\n",
       "    <tr>\n",
       "      <th>4</th>\n",
       "      <td>male</td>\n",
       "      <td>no</td>\n",
       "      <td>northwest</td>\n",
       "      <td>Overweight</td>\n",
       "    </tr>\n",
       "    <tr>\n",
       "      <th>...</th>\n",
       "      <td>...</td>\n",
       "      <td>...</td>\n",
       "      <td>...</td>\n",
       "      <td>...</td>\n",
       "    </tr>\n",
       "    <tr>\n",
       "      <th>1333</th>\n",
       "      <td>male</td>\n",
       "      <td>no</td>\n",
       "      <td>northwest</td>\n",
       "      <td>Obese</td>\n",
       "    </tr>\n",
       "    <tr>\n",
       "      <th>1334</th>\n",
       "      <td>female</td>\n",
       "      <td>no</td>\n",
       "      <td>northeast</td>\n",
       "      <td>Obese</td>\n",
       "    </tr>\n",
       "    <tr>\n",
       "      <th>1335</th>\n",
       "      <td>female</td>\n",
       "      <td>no</td>\n",
       "      <td>southeast</td>\n",
       "      <td>Obese</td>\n",
       "    </tr>\n",
       "    <tr>\n",
       "      <th>1336</th>\n",
       "      <td>female</td>\n",
       "      <td>no</td>\n",
       "      <td>southwest</td>\n",
       "      <td>Overweight</td>\n",
       "    </tr>\n",
       "    <tr>\n",
       "      <th>1337</th>\n",
       "      <td>female</td>\n",
       "      <td>yes</td>\n",
       "      <td>northwest</td>\n",
       "      <td>Overweight</td>\n",
       "    </tr>\n",
       "  </tbody>\n",
       "</table>\n",
       "<p>1337 rows × 4 columns</p>\n",
       "</div>"
      ],
      "text/plain": [
       "         sex smoker     region   bmi_group\n",
       "0     female    yes  southwest  Overweight\n",
       "1       male     no  southeast       Obese\n",
       "2       male     no  southeast       Obese\n",
       "3       male     no  northwest      Normal\n",
       "4       male     no  northwest  Overweight\n",
       "...      ...    ...        ...         ...\n",
       "1333    male     no  northwest       Obese\n",
       "1334  female     no  northeast       Obese\n",
       "1335  female     no  southeast       Obese\n",
       "1336  female     no  southwest  Overweight\n",
       "1337  female    yes  northwest  Overweight\n",
       "\n",
       "[1337 rows x 4 columns]"
      ]
     },
     "execution_count": 75,
     "metadata": {},
     "output_type": "execute_result"
    }
   ],
   "source": [
    "categorical_cols"
   ]
  },
  {
   "cell_type": "markdown",
   "id": "6c9ce96e-726d-4433-bbd2-e8acadb45ee0",
   "metadata": {},
   "source": [
    "## Encoding :"
   ]
  },
  {
   "cell_type": "code",
   "execution_count": 77,
   "id": "118a80ba-a07a-4bde-8213-a69419313a41",
   "metadata": {},
   "outputs": [],
   "source": [
    "for col in categorical_cols:\n",
    "    le = LabelEncoder()\n",
    "    df[col] = le.fit_transform(df[col])"
   ]
  },
  {
   "cell_type": "code",
   "execution_count": 78,
   "id": "989bf8d0-b399-4524-af0e-bc65d359bec7",
   "metadata": {},
   "outputs": [
    {
     "data": {
      "text/html": [
       "<div>\n",
       "<style scoped>\n",
       "    .dataframe tbody tr th:only-of-type {\n",
       "        vertical-align: middle;\n",
       "    }\n",
       "\n",
       "    .dataframe tbody tr th {\n",
       "        vertical-align: top;\n",
       "    }\n",
       "\n",
       "    .dataframe thead th {\n",
       "        text-align: right;\n",
       "    }\n",
       "</style>\n",
       "<table border=\"1\" class=\"dataframe\">\n",
       "  <thead>\n",
       "    <tr style=\"text-align: right;\">\n",
       "      <th></th>\n",
       "      <th>age</th>\n",
       "      <th>sex</th>\n",
       "      <th>bmi</th>\n",
       "      <th>children</th>\n",
       "      <th>smoker</th>\n",
       "      <th>region</th>\n",
       "      <th>charges</th>\n",
       "      <th>bmi_group</th>\n",
       "    </tr>\n",
       "  </thead>\n",
       "  <tbody>\n",
       "    <tr>\n",
       "      <th>0</th>\n",
       "      <td>19</td>\n",
       "      <td>0</td>\n",
       "      <td>27.900</td>\n",
       "      <td>0</td>\n",
       "      <td>1</td>\n",
       "      <td>3</td>\n",
       "      <td>16884.92400</td>\n",
       "      <td>2</td>\n",
       "    </tr>\n",
       "    <tr>\n",
       "      <th>1</th>\n",
       "      <td>18</td>\n",
       "      <td>1</td>\n",
       "      <td>33.770</td>\n",
       "      <td>1</td>\n",
       "      <td>0</td>\n",
       "      <td>2</td>\n",
       "      <td>1725.55230</td>\n",
       "      <td>1</td>\n",
       "    </tr>\n",
       "    <tr>\n",
       "      <th>2</th>\n",
       "      <td>28</td>\n",
       "      <td>1</td>\n",
       "      <td>33.000</td>\n",
       "      <td>3</td>\n",
       "      <td>0</td>\n",
       "      <td>2</td>\n",
       "      <td>4449.46200</td>\n",
       "      <td>1</td>\n",
       "    </tr>\n",
       "    <tr>\n",
       "      <th>3</th>\n",
       "      <td>33</td>\n",
       "      <td>1</td>\n",
       "      <td>22.705</td>\n",
       "      <td>0</td>\n",
       "      <td>0</td>\n",
       "      <td>1</td>\n",
       "      <td>21984.47061</td>\n",
       "      <td>0</td>\n",
       "    </tr>\n",
       "    <tr>\n",
       "      <th>4</th>\n",
       "      <td>32</td>\n",
       "      <td>1</td>\n",
       "      <td>28.880</td>\n",
       "      <td>0</td>\n",
       "      <td>0</td>\n",
       "      <td>1</td>\n",
       "      <td>3866.85520</td>\n",
       "      <td>2</td>\n",
       "    </tr>\n",
       "    <tr>\n",
       "      <th>...</th>\n",
       "      <td>...</td>\n",
       "      <td>...</td>\n",
       "      <td>...</td>\n",
       "      <td>...</td>\n",
       "      <td>...</td>\n",
       "      <td>...</td>\n",
       "      <td>...</td>\n",
       "      <td>...</td>\n",
       "    </tr>\n",
       "    <tr>\n",
       "      <th>1333</th>\n",
       "      <td>50</td>\n",
       "      <td>1</td>\n",
       "      <td>30.970</td>\n",
       "      <td>3</td>\n",
       "      <td>0</td>\n",
       "      <td>1</td>\n",
       "      <td>10600.54830</td>\n",
       "      <td>1</td>\n",
       "    </tr>\n",
       "    <tr>\n",
       "      <th>1334</th>\n",
       "      <td>18</td>\n",
       "      <td>0</td>\n",
       "      <td>31.920</td>\n",
       "      <td>0</td>\n",
       "      <td>0</td>\n",
       "      <td>0</td>\n",
       "      <td>2205.98080</td>\n",
       "      <td>1</td>\n",
       "    </tr>\n",
       "    <tr>\n",
       "      <th>1335</th>\n",
       "      <td>18</td>\n",
       "      <td>0</td>\n",
       "      <td>36.850</td>\n",
       "      <td>0</td>\n",
       "      <td>0</td>\n",
       "      <td>2</td>\n",
       "      <td>1629.83350</td>\n",
       "      <td>1</td>\n",
       "    </tr>\n",
       "    <tr>\n",
       "      <th>1336</th>\n",
       "      <td>21</td>\n",
       "      <td>0</td>\n",
       "      <td>25.800</td>\n",
       "      <td>0</td>\n",
       "      <td>0</td>\n",
       "      <td>3</td>\n",
       "      <td>2007.94500</td>\n",
       "      <td>2</td>\n",
       "    </tr>\n",
       "    <tr>\n",
       "      <th>1337</th>\n",
       "      <td>61</td>\n",
       "      <td>0</td>\n",
       "      <td>29.070</td>\n",
       "      <td>0</td>\n",
       "      <td>1</td>\n",
       "      <td>1</td>\n",
       "      <td>29141.36030</td>\n",
       "      <td>2</td>\n",
       "    </tr>\n",
       "  </tbody>\n",
       "</table>\n",
       "<p>1337 rows × 8 columns</p>\n",
       "</div>"
      ],
      "text/plain": [
       "      age  sex     bmi  children  smoker  region      charges  bmi_group\n",
       "0      19    0  27.900         0       1       3  16884.92400          2\n",
       "1      18    1  33.770         1       0       2   1725.55230          1\n",
       "2      28    1  33.000         3       0       2   4449.46200          1\n",
       "3      33    1  22.705         0       0       1  21984.47061          0\n",
       "4      32    1  28.880         0       0       1   3866.85520          2\n",
       "...   ...  ...     ...       ...     ...     ...          ...        ...\n",
       "1333   50    1  30.970         3       0       1  10600.54830          1\n",
       "1334   18    0  31.920         0       0       0   2205.98080          1\n",
       "1335   18    0  36.850         0       0       2   1629.83350          1\n",
       "1336   21    0  25.800         0       0       3   2007.94500          2\n",
       "1337   61    0  29.070         0       1       1  29141.36030          2\n",
       "\n",
       "[1337 rows x 8 columns]"
      ]
     },
     "execution_count": 78,
     "metadata": {},
     "output_type": "execute_result"
    }
   ],
   "source": [
    "df"
   ]
  },
  {
   "cell_type": "markdown",
   "id": "7d7ffd46-1558-40f9-8c51-d50ab3afb33c",
   "metadata": {},
   "source": [
    "## Scaling :"
   ]
  },
  {
   "cell_type": "code",
   "execution_count": 80,
   "id": "2042e394-f1f9-4a01-84b6-26e00805c6e7",
   "metadata": {},
   "outputs": [
    {
     "data": {
      "text/plain": [
       "array([[-1.44041773, -1.00977099, -0.45315959, ...,  1.34316271,\n",
       "         0.2978567 ,  1.20860229],\n",
       "       [-1.51164747,  0.99032355,  0.50942165, ...,  0.43801727,\n",
       "        -0.9543806 , -0.213846  ],\n",
       "       [-0.79935006,  0.99032355,  0.3831546 , ...,  0.43801727,\n",
       "        -0.72937251, -0.213846  ],\n",
       "       ...,\n",
       "       [-1.51164747, -1.00977099,  1.01448983, ...,  0.43801727,\n",
       "        -0.96228744, -0.213846  ],\n",
       "       [-1.29795825, -1.00977099, -0.79752426, ...,  1.34316271,\n",
       "        -0.9310536 ,  1.20860229],\n",
       "       [ 1.55123139, -1.00977099, -0.26129928, ..., -0.46712816,\n",
       "         1.31029752,  1.20860229]])"
      ]
     },
     "execution_count": 80,
     "metadata": {},
     "output_type": "execute_result"
    }
   ],
   "source": [
    "scaler = StandardScaler()\n",
    "scaled_data = scaler.fit_transform(df)\n",
    "scaled_data"
   ]
  },
  {
   "cell_type": "code",
   "execution_count": 81,
   "id": "ac0f6dd0-da5b-4022-9c3c-97f0a8f86f55",
   "metadata": {},
   "outputs": [
    {
     "data": {
      "text/html": [
       "<div>\n",
       "<style scoped>\n",
       "    .dataframe tbody tr th:only-of-type {\n",
       "        vertical-align: middle;\n",
       "    }\n",
       "\n",
       "    .dataframe tbody tr th {\n",
       "        vertical-align: top;\n",
       "    }\n",
       "\n",
       "    .dataframe thead th {\n",
       "        text-align: right;\n",
       "    }\n",
       "</style>\n",
       "<table border=\"1\" class=\"dataframe\">\n",
       "  <thead>\n",
       "    <tr style=\"text-align: right;\">\n",
       "      <th></th>\n",
       "      <th>age</th>\n",
       "      <th>sex</th>\n",
       "      <th>bmi</th>\n",
       "      <th>children</th>\n",
       "      <th>smoker</th>\n",
       "      <th>region</th>\n",
       "      <th>charges</th>\n",
       "      <th>bmi_group</th>\n",
       "    </tr>\n",
       "  </thead>\n",
       "  <tbody>\n",
       "    <tr>\n",
       "      <th>0</th>\n",
       "      <td>-1.440418</td>\n",
       "      <td>-1.009771</td>\n",
       "      <td>-0.453160</td>\n",
       "      <td>-0.909234</td>\n",
       "      <td>1.969660</td>\n",
       "      <td>1.343163</td>\n",
       "      <td>0.297857</td>\n",
       "      <td>1.208602</td>\n",
       "    </tr>\n",
       "    <tr>\n",
       "      <th>1</th>\n",
       "      <td>-1.511647</td>\n",
       "      <td>0.990324</td>\n",
       "      <td>0.509422</td>\n",
       "      <td>-0.079442</td>\n",
       "      <td>-0.507702</td>\n",
       "      <td>0.438017</td>\n",
       "      <td>-0.954381</td>\n",
       "      <td>-0.213846</td>\n",
       "    </tr>\n",
       "    <tr>\n",
       "      <th>2</th>\n",
       "      <td>-0.799350</td>\n",
       "      <td>0.990324</td>\n",
       "      <td>0.383155</td>\n",
       "      <td>1.580143</td>\n",
       "      <td>-0.507702</td>\n",
       "      <td>0.438017</td>\n",
       "      <td>-0.729373</td>\n",
       "      <td>-0.213846</td>\n",
       "    </tr>\n",
       "    <tr>\n",
       "      <th>3</th>\n",
       "      <td>-0.443201</td>\n",
       "      <td>0.990324</td>\n",
       "      <td>-1.305052</td>\n",
       "      <td>-0.909234</td>\n",
       "      <td>-0.507702</td>\n",
       "      <td>-0.467128</td>\n",
       "      <td>0.719104</td>\n",
       "      <td>-1.636294</td>\n",
       "    </tr>\n",
       "    <tr>\n",
       "      <th>4</th>\n",
       "      <td>-0.514431</td>\n",
       "      <td>0.990324</td>\n",
       "      <td>-0.292456</td>\n",
       "      <td>-0.909234</td>\n",
       "      <td>-0.507702</td>\n",
       "      <td>-0.467128</td>\n",
       "      <td>-0.777499</td>\n",
       "      <td>1.208602</td>\n",
       "    </tr>\n",
       "    <tr>\n",
       "      <th>...</th>\n",
       "      <td>...</td>\n",
       "      <td>...</td>\n",
       "      <td>...</td>\n",
       "      <td>...</td>\n",
       "      <td>...</td>\n",
       "      <td>...</td>\n",
       "      <td>...</td>\n",
       "      <td>...</td>\n",
       "    </tr>\n",
       "    <tr>\n",
       "      <th>1333</th>\n",
       "      <td>0.767704</td>\n",
       "      <td>0.990324</td>\n",
       "      <td>0.050269</td>\n",
       "      <td>1.580143</td>\n",
       "      <td>-0.507702</td>\n",
       "      <td>-0.467128</td>\n",
       "      <td>-0.221263</td>\n",
       "      <td>-0.213846</td>\n",
       "    </tr>\n",
       "    <tr>\n",
       "      <th>1334</th>\n",
       "      <td>-1.511647</td>\n",
       "      <td>-1.009771</td>\n",
       "      <td>0.206053</td>\n",
       "      <td>-0.909234</td>\n",
       "      <td>-0.507702</td>\n",
       "      <td>-1.372274</td>\n",
       "      <td>-0.914695</td>\n",
       "      <td>-0.213846</td>\n",
       "    </tr>\n",
       "    <tr>\n",
       "      <th>1335</th>\n",
       "      <td>-1.511647</td>\n",
       "      <td>-1.009771</td>\n",
       "      <td>1.014490</td>\n",
       "      <td>-0.909234</td>\n",
       "      <td>-0.507702</td>\n",
       "      <td>0.438017</td>\n",
       "      <td>-0.962287</td>\n",
       "      <td>-0.213846</td>\n",
       "    </tr>\n",
       "    <tr>\n",
       "      <th>1336</th>\n",
       "      <td>-1.297958</td>\n",
       "      <td>-1.009771</td>\n",
       "      <td>-0.797524</td>\n",
       "      <td>-0.909234</td>\n",
       "      <td>-0.507702</td>\n",
       "      <td>1.343163</td>\n",
       "      <td>-0.931054</td>\n",
       "      <td>1.208602</td>\n",
       "    </tr>\n",
       "    <tr>\n",
       "      <th>1337</th>\n",
       "      <td>1.551231</td>\n",
       "      <td>-1.009771</td>\n",
       "      <td>-0.261299</td>\n",
       "      <td>-0.909234</td>\n",
       "      <td>1.969660</td>\n",
       "      <td>-0.467128</td>\n",
       "      <td>1.310298</td>\n",
       "      <td>1.208602</td>\n",
       "    </tr>\n",
       "  </tbody>\n",
       "</table>\n",
       "<p>1337 rows × 8 columns</p>\n",
       "</div>"
      ],
      "text/plain": [
       "           age       sex       bmi  children    smoker    region   charges  \\\n",
       "0    -1.440418 -1.009771 -0.453160 -0.909234  1.969660  1.343163  0.297857   \n",
       "1    -1.511647  0.990324  0.509422 -0.079442 -0.507702  0.438017 -0.954381   \n",
       "2    -0.799350  0.990324  0.383155  1.580143 -0.507702  0.438017 -0.729373   \n",
       "3    -0.443201  0.990324 -1.305052 -0.909234 -0.507702 -0.467128  0.719104   \n",
       "4    -0.514431  0.990324 -0.292456 -0.909234 -0.507702 -0.467128 -0.777499   \n",
       "...        ...       ...       ...       ...       ...       ...       ...   \n",
       "1333  0.767704  0.990324  0.050269  1.580143 -0.507702 -0.467128 -0.221263   \n",
       "1334 -1.511647 -1.009771  0.206053 -0.909234 -0.507702 -1.372274 -0.914695   \n",
       "1335 -1.511647 -1.009771  1.014490 -0.909234 -0.507702  0.438017 -0.962287   \n",
       "1336 -1.297958 -1.009771 -0.797524 -0.909234 -0.507702  1.343163 -0.931054   \n",
       "1337  1.551231 -1.009771 -0.261299 -0.909234  1.969660 -0.467128  1.310298   \n",
       "\n",
       "      bmi_group  \n",
       "0      1.208602  \n",
       "1     -0.213846  \n",
       "2     -0.213846  \n",
       "3     -1.636294  \n",
       "4      1.208602  \n",
       "...         ...  \n",
       "1333  -0.213846  \n",
       "1334  -0.213846  \n",
       "1335  -0.213846  \n",
       "1336   1.208602  \n",
       "1337   1.208602  \n",
       "\n",
       "[1337 rows x 8 columns]"
      ]
     },
     "execution_count": 81,
     "metadata": {},
     "output_type": "execute_result"
    }
   ],
   "source": [
    "df = pd.DataFrame(scaled_data, columns=df.columns, index=df.index)\n",
    "df"
   ]
  },
  {
   "cell_type": "markdown",
   "id": "24b3f954-af90-486d-b167-af58d5f67c58",
   "metadata": {},
   "source": [
    "## Train-Test Split :"
   ]
  },
  {
   "cell_type": "code",
   "execution_count": 83,
   "id": "db2ac49e-9053-4404-8002-37af5dec2a6e",
   "metadata": {},
   "outputs": [],
   "source": [
    "X = df.drop('charges', axis=1)\n",
    "y = df['charges']"
   ]
  },
  {
   "cell_type": "code",
   "execution_count": 84,
   "id": "4c3e813c-82c5-4a86-ac8e-58e8f4ae7a5e",
   "metadata": {},
   "outputs": [],
   "source": [
    "X_train, X_test, y_train, y_test = train_test_split(X, y, test_size=0.3, random_state=42)"
   ]
  },
  {
   "cell_type": "code",
   "execution_count": 85,
   "id": "99840a2d-f560-4897-baee-ec35fbef4d16",
   "metadata": {},
   "outputs": [
    {
     "data": {
      "text/html": [
       "<style>#sk-container-id-1 {\n",
       "  /* Definition of color scheme common for light and dark mode */\n",
       "  --sklearn-color-text: #000;\n",
       "  --sklearn-color-text-muted: #666;\n",
       "  --sklearn-color-line: gray;\n",
       "  /* Definition of color scheme for unfitted estimators */\n",
       "  --sklearn-color-unfitted-level-0: #fff5e6;\n",
       "  --sklearn-color-unfitted-level-1: #f6e4d2;\n",
       "  --sklearn-color-unfitted-level-2: #ffe0b3;\n",
       "  --sklearn-color-unfitted-level-3: chocolate;\n",
       "  /* Definition of color scheme for fitted estimators */\n",
       "  --sklearn-color-fitted-level-0: #f0f8ff;\n",
       "  --sklearn-color-fitted-level-1: #d4ebff;\n",
       "  --sklearn-color-fitted-level-2: #b3dbfd;\n",
       "  --sklearn-color-fitted-level-3: cornflowerblue;\n",
       "\n",
       "  /* Specific color for light theme */\n",
       "  --sklearn-color-text-on-default-background: var(--sg-text-color, var(--theme-code-foreground, var(--jp-content-font-color1, black)));\n",
       "  --sklearn-color-background: var(--sg-background-color, var(--theme-background, var(--jp-layout-color0, white)));\n",
       "  --sklearn-color-border-box: var(--sg-text-color, var(--theme-code-foreground, var(--jp-content-font-color1, black)));\n",
       "  --sklearn-color-icon: #696969;\n",
       "\n",
       "  @media (prefers-color-scheme: dark) {\n",
       "    /* Redefinition of color scheme for dark theme */\n",
       "    --sklearn-color-text-on-default-background: var(--sg-text-color, var(--theme-code-foreground, var(--jp-content-font-color1, white)));\n",
       "    --sklearn-color-background: var(--sg-background-color, var(--theme-background, var(--jp-layout-color0, #111)));\n",
       "    --sklearn-color-border-box: var(--sg-text-color, var(--theme-code-foreground, var(--jp-content-font-color1, white)));\n",
       "    --sklearn-color-icon: #878787;\n",
       "  }\n",
       "}\n",
       "\n",
       "#sk-container-id-1 {\n",
       "  color: var(--sklearn-color-text);\n",
       "}\n",
       "\n",
       "#sk-container-id-1 pre {\n",
       "  padding: 0;\n",
       "}\n",
       "\n",
       "#sk-container-id-1 input.sk-hidden--visually {\n",
       "  border: 0;\n",
       "  clip: rect(1px 1px 1px 1px);\n",
       "  clip: rect(1px, 1px, 1px, 1px);\n",
       "  height: 1px;\n",
       "  margin: -1px;\n",
       "  overflow: hidden;\n",
       "  padding: 0;\n",
       "  position: absolute;\n",
       "  width: 1px;\n",
       "}\n",
       "\n",
       "#sk-container-id-1 div.sk-dashed-wrapped {\n",
       "  border: 1px dashed var(--sklearn-color-line);\n",
       "  margin: 0 0.4em 0.5em 0.4em;\n",
       "  box-sizing: border-box;\n",
       "  padding-bottom: 0.4em;\n",
       "  background-color: var(--sklearn-color-background);\n",
       "}\n",
       "\n",
       "#sk-container-id-1 div.sk-container {\n",
       "  /* jupyter's `normalize.less` sets `[hidden] { display: none; }`\n",
       "     but bootstrap.min.css set `[hidden] { display: none !important; }`\n",
       "     so we also need the `!important` here to be able to override the\n",
       "     default hidden behavior on the sphinx rendered scikit-learn.org.\n",
       "     See: https://github.com/scikit-learn/scikit-learn/issues/21755 */\n",
       "  display: inline-block !important;\n",
       "  position: relative;\n",
       "}\n",
       "\n",
       "#sk-container-id-1 div.sk-text-repr-fallback {\n",
       "  display: none;\n",
       "}\n",
       "\n",
       "div.sk-parallel-item,\n",
       "div.sk-serial,\n",
       "div.sk-item {\n",
       "  /* draw centered vertical line to link estimators */\n",
       "  background-image: linear-gradient(var(--sklearn-color-text-on-default-background), var(--sklearn-color-text-on-default-background));\n",
       "  background-size: 2px 100%;\n",
       "  background-repeat: no-repeat;\n",
       "  background-position: center center;\n",
       "}\n",
       "\n",
       "/* Parallel-specific style estimator block */\n",
       "\n",
       "#sk-container-id-1 div.sk-parallel-item::after {\n",
       "  content: \"\";\n",
       "  width: 100%;\n",
       "  border-bottom: 2px solid var(--sklearn-color-text-on-default-background);\n",
       "  flex-grow: 1;\n",
       "}\n",
       "\n",
       "#sk-container-id-1 div.sk-parallel {\n",
       "  display: flex;\n",
       "  align-items: stretch;\n",
       "  justify-content: center;\n",
       "  background-color: var(--sklearn-color-background);\n",
       "  position: relative;\n",
       "}\n",
       "\n",
       "#sk-container-id-1 div.sk-parallel-item {\n",
       "  display: flex;\n",
       "  flex-direction: column;\n",
       "}\n",
       "\n",
       "#sk-container-id-1 div.sk-parallel-item:first-child::after {\n",
       "  align-self: flex-end;\n",
       "  width: 50%;\n",
       "}\n",
       "\n",
       "#sk-container-id-1 div.sk-parallel-item:last-child::after {\n",
       "  align-self: flex-start;\n",
       "  width: 50%;\n",
       "}\n",
       "\n",
       "#sk-container-id-1 div.sk-parallel-item:only-child::after {\n",
       "  width: 0;\n",
       "}\n",
       "\n",
       "/* Serial-specific style estimator block */\n",
       "\n",
       "#sk-container-id-1 div.sk-serial {\n",
       "  display: flex;\n",
       "  flex-direction: column;\n",
       "  align-items: center;\n",
       "  background-color: var(--sklearn-color-background);\n",
       "  padding-right: 1em;\n",
       "  padding-left: 1em;\n",
       "}\n",
       "\n",
       "\n",
       "/* Toggleable style: style used for estimator/Pipeline/ColumnTransformer box that is\n",
       "clickable and can be expanded/collapsed.\n",
       "- Pipeline and ColumnTransformer use this feature and define the default style\n",
       "- Estimators will overwrite some part of the style using the `sk-estimator` class\n",
       "*/\n",
       "\n",
       "/* Pipeline and ColumnTransformer style (default) */\n",
       "\n",
       "#sk-container-id-1 div.sk-toggleable {\n",
       "  /* Default theme specific background. It is overwritten whether we have a\n",
       "  specific estimator or a Pipeline/ColumnTransformer */\n",
       "  background-color: var(--sklearn-color-background);\n",
       "}\n",
       "\n",
       "/* Toggleable label */\n",
       "#sk-container-id-1 label.sk-toggleable__label {\n",
       "  cursor: pointer;\n",
       "  display: flex;\n",
       "  width: 100%;\n",
       "  margin-bottom: 0;\n",
       "  padding: 0.5em;\n",
       "  box-sizing: border-box;\n",
       "  text-align: center;\n",
       "  align-items: start;\n",
       "  justify-content: space-between;\n",
       "  gap: 0.5em;\n",
       "}\n",
       "\n",
       "#sk-container-id-1 label.sk-toggleable__label .caption {\n",
       "  font-size: 0.6rem;\n",
       "  font-weight: lighter;\n",
       "  color: var(--sklearn-color-text-muted);\n",
       "}\n",
       "\n",
       "#sk-container-id-1 label.sk-toggleable__label-arrow:before {\n",
       "  /* Arrow on the left of the label */\n",
       "  content: \"▸\";\n",
       "  float: left;\n",
       "  margin-right: 0.25em;\n",
       "  color: var(--sklearn-color-icon);\n",
       "}\n",
       "\n",
       "#sk-container-id-1 label.sk-toggleable__label-arrow:hover:before {\n",
       "  color: var(--sklearn-color-text);\n",
       "}\n",
       "\n",
       "/* Toggleable content - dropdown */\n",
       "\n",
       "#sk-container-id-1 div.sk-toggleable__content {\n",
       "  max-height: 0;\n",
       "  max-width: 0;\n",
       "  overflow: hidden;\n",
       "  text-align: left;\n",
       "  /* unfitted */\n",
       "  background-color: var(--sklearn-color-unfitted-level-0);\n",
       "}\n",
       "\n",
       "#sk-container-id-1 div.sk-toggleable__content.fitted {\n",
       "  /* fitted */\n",
       "  background-color: var(--sklearn-color-fitted-level-0);\n",
       "}\n",
       "\n",
       "#sk-container-id-1 div.sk-toggleable__content pre {\n",
       "  margin: 0.2em;\n",
       "  border-radius: 0.25em;\n",
       "  color: var(--sklearn-color-text);\n",
       "  /* unfitted */\n",
       "  background-color: var(--sklearn-color-unfitted-level-0);\n",
       "}\n",
       "\n",
       "#sk-container-id-1 div.sk-toggleable__content.fitted pre {\n",
       "  /* unfitted */\n",
       "  background-color: var(--sklearn-color-fitted-level-0);\n",
       "}\n",
       "\n",
       "#sk-container-id-1 input.sk-toggleable__control:checked~div.sk-toggleable__content {\n",
       "  /* Expand drop-down */\n",
       "  max-height: 200px;\n",
       "  max-width: 100%;\n",
       "  overflow: auto;\n",
       "}\n",
       "\n",
       "#sk-container-id-1 input.sk-toggleable__control:checked~label.sk-toggleable__label-arrow:before {\n",
       "  content: \"▾\";\n",
       "}\n",
       "\n",
       "/* Pipeline/ColumnTransformer-specific style */\n",
       "\n",
       "#sk-container-id-1 div.sk-label input.sk-toggleable__control:checked~label.sk-toggleable__label {\n",
       "  color: var(--sklearn-color-text);\n",
       "  background-color: var(--sklearn-color-unfitted-level-2);\n",
       "}\n",
       "\n",
       "#sk-container-id-1 div.sk-label.fitted input.sk-toggleable__control:checked~label.sk-toggleable__label {\n",
       "  background-color: var(--sklearn-color-fitted-level-2);\n",
       "}\n",
       "\n",
       "/* Estimator-specific style */\n",
       "\n",
       "/* Colorize estimator box */\n",
       "#sk-container-id-1 div.sk-estimator input.sk-toggleable__control:checked~label.sk-toggleable__label {\n",
       "  /* unfitted */\n",
       "  background-color: var(--sklearn-color-unfitted-level-2);\n",
       "}\n",
       "\n",
       "#sk-container-id-1 div.sk-estimator.fitted input.sk-toggleable__control:checked~label.sk-toggleable__label {\n",
       "  /* fitted */\n",
       "  background-color: var(--sklearn-color-fitted-level-2);\n",
       "}\n",
       "\n",
       "#sk-container-id-1 div.sk-label label.sk-toggleable__label,\n",
       "#sk-container-id-1 div.sk-label label {\n",
       "  /* The background is the default theme color */\n",
       "  color: var(--sklearn-color-text-on-default-background);\n",
       "}\n",
       "\n",
       "/* On hover, darken the color of the background */\n",
       "#sk-container-id-1 div.sk-label:hover label.sk-toggleable__label {\n",
       "  color: var(--sklearn-color-text);\n",
       "  background-color: var(--sklearn-color-unfitted-level-2);\n",
       "}\n",
       "\n",
       "/* Label box, darken color on hover, fitted */\n",
       "#sk-container-id-1 div.sk-label.fitted:hover label.sk-toggleable__label.fitted {\n",
       "  color: var(--sklearn-color-text);\n",
       "  background-color: var(--sklearn-color-fitted-level-2);\n",
       "}\n",
       "\n",
       "/* Estimator label */\n",
       "\n",
       "#sk-container-id-1 div.sk-label label {\n",
       "  font-family: monospace;\n",
       "  font-weight: bold;\n",
       "  display: inline-block;\n",
       "  line-height: 1.2em;\n",
       "}\n",
       "\n",
       "#sk-container-id-1 div.sk-label-container {\n",
       "  text-align: center;\n",
       "}\n",
       "\n",
       "/* Estimator-specific */\n",
       "#sk-container-id-1 div.sk-estimator {\n",
       "  font-family: monospace;\n",
       "  border: 1px dotted var(--sklearn-color-border-box);\n",
       "  border-radius: 0.25em;\n",
       "  box-sizing: border-box;\n",
       "  margin-bottom: 0.5em;\n",
       "  /* unfitted */\n",
       "  background-color: var(--sklearn-color-unfitted-level-0);\n",
       "}\n",
       "\n",
       "#sk-container-id-1 div.sk-estimator.fitted {\n",
       "  /* fitted */\n",
       "  background-color: var(--sklearn-color-fitted-level-0);\n",
       "}\n",
       "\n",
       "/* on hover */\n",
       "#sk-container-id-1 div.sk-estimator:hover {\n",
       "  /* unfitted */\n",
       "  background-color: var(--sklearn-color-unfitted-level-2);\n",
       "}\n",
       "\n",
       "#sk-container-id-1 div.sk-estimator.fitted:hover {\n",
       "  /* fitted */\n",
       "  background-color: var(--sklearn-color-fitted-level-2);\n",
       "}\n",
       "\n",
       "/* Specification for estimator info (e.g. \"i\" and \"?\") */\n",
       "\n",
       "/* Common style for \"i\" and \"?\" */\n",
       "\n",
       ".sk-estimator-doc-link,\n",
       "a:link.sk-estimator-doc-link,\n",
       "a:visited.sk-estimator-doc-link {\n",
       "  float: right;\n",
       "  font-size: smaller;\n",
       "  line-height: 1em;\n",
       "  font-family: monospace;\n",
       "  background-color: var(--sklearn-color-background);\n",
       "  border-radius: 1em;\n",
       "  height: 1em;\n",
       "  width: 1em;\n",
       "  text-decoration: none !important;\n",
       "  margin-left: 0.5em;\n",
       "  text-align: center;\n",
       "  /* unfitted */\n",
       "  border: var(--sklearn-color-unfitted-level-1) 1pt solid;\n",
       "  color: var(--sklearn-color-unfitted-level-1);\n",
       "}\n",
       "\n",
       ".sk-estimator-doc-link.fitted,\n",
       "a:link.sk-estimator-doc-link.fitted,\n",
       "a:visited.sk-estimator-doc-link.fitted {\n",
       "  /* fitted */\n",
       "  border: var(--sklearn-color-fitted-level-1) 1pt solid;\n",
       "  color: var(--sklearn-color-fitted-level-1);\n",
       "}\n",
       "\n",
       "/* On hover */\n",
       "div.sk-estimator:hover .sk-estimator-doc-link:hover,\n",
       ".sk-estimator-doc-link:hover,\n",
       "div.sk-label-container:hover .sk-estimator-doc-link:hover,\n",
       ".sk-estimator-doc-link:hover {\n",
       "  /* unfitted */\n",
       "  background-color: var(--sklearn-color-unfitted-level-3);\n",
       "  color: var(--sklearn-color-background);\n",
       "  text-decoration: none;\n",
       "}\n",
       "\n",
       "div.sk-estimator.fitted:hover .sk-estimator-doc-link.fitted:hover,\n",
       ".sk-estimator-doc-link.fitted:hover,\n",
       "div.sk-label-container:hover .sk-estimator-doc-link.fitted:hover,\n",
       ".sk-estimator-doc-link.fitted:hover {\n",
       "  /* fitted */\n",
       "  background-color: var(--sklearn-color-fitted-level-3);\n",
       "  color: var(--sklearn-color-background);\n",
       "  text-decoration: none;\n",
       "}\n",
       "\n",
       "/* Span, style for the box shown on hovering the info icon */\n",
       ".sk-estimator-doc-link span {\n",
       "  display: none;\n",
       "  z-index: 9999;\n",
       "  position: relative;\n",
       "  font-weight: normal;\n",
       "  right: .2ex;\n",
       "  padding: .5ex;\n",
       "  margin: .5ex;\n",
       "  width: min-content;\n",
       "  min-width: 20ex;\n",
       "  max-width: 50ex;\n",
       "  color: var(--sklearn-color-text);\n",
       "  box-shadow: 2pt 2pt 4pt #999;\n",
       "  /* unfitted */\n",
       "  background: var(--sklearn-color-unfitted-level-0);\n",
       "  border: .5pt solid var(--sklearn-color-unfitted-level-3);\n",
       "}\n",
       "\n",
       ".sk-estimator-doc-link.fitted span {\n",
       "  /* fitted */\n",
       "  background: var(--sklearn-color-fitted-level-0);\n",
       "  border: var(--sklearn-color-fitted-level-3);\n",
       "}\n",
       "\n",
       ".sk-estimator-doc-link:hover span {\n",
       "  display: block;\n",
       "}\n",
       "\n",
       "/* \"?\"-specific style due to the `<a>` HTML tag */\n",
       "\n",
       "#sk-container-id-1 a.estimator_doc_link {\n",
       "  float: right;\n",
       "  font-size: 1rem;\n",
       "  line-height: 1em;\n",
       "  font-family: monospace;\n",
       "  background-color: var(--sklearn-color-background);\n",
       "  border-radius: 1rem;\n",
       "  height: 1rem;\n",
       "  width: 1rem;\n",
       "  text-decoration: none;\n",
       "  /* unfitted */\n",
       "  color: var(--sklearn-color-unfitted-level-1);\n",
       "  border: var(--sklearn-color-unfitted-level-1) 1pt solid;\n",
       "}\n",
       "\n",
       "#sk-container-id-1 a.estimator_doc_link.fitted {\n",
       "  /* fitted */\n",
       "  border: var(--sklearn-color-fitted-level-1) 1pt solid;\n",
       "  color: var(--sklearn-color-fitted-level-1);\n",
       "}\n",
       "\n",
       "/* On hover */\n",
       "#sk-container-id-1 a.estimator_doc_link:hover {\n",
       "  /* unfitted */\n",
       "  background-color: var(--sklearn-color-unfitted-level-3);\n",
       "  color: var(--sklearn-color-background);\n",
       "  text-decoration: none;\n",
       "}\n",
       "\n",
       "#sk-container-id-1 a.estimator_doc_link.fitted:hover {\n",
       "  /* fitted */\n",
       "  background-color: var(--sklearn-color-fitted-level-3);\n",
       "}\n",
       "</style><div id=\"sk-container-id-1\" class=\"sk-top-container\"><div class=\"sk-text-repr-fallback\"><pre>LinearRegression()</pre><b>In a Jupyter environment, please rerun this cell to show the HTML representation or trust the notebook. <br />On GitHub, the HTML representation is unable to render, please try loading this page with nbviewer.org.</b></div><div class=\"sk-container\" hidden><div class=\"sk-item\"><div class=\"sk-estimator fitted sk-toggleable\"><input class=\"sk-toggleable__control sk-hidden--visually\" id=\"sk-estimator-id-1\" type=\"checkbox\" checked><label for=\"sk-estimator-id-1\" class=\"sk-toggleable__label fitted sk-toggleable__label-arrow\"><div><div>LinearRegression</div></div><div><a class=\"sk-estimator-doc-link fitted\" rel=\"noreferrer\" target=\"_blank\" href=\"https://scikit-learn.org/1.6/modules/generated/sklearn.linear_model.LinearRegression.html\">?<span>Documentation for LinearRegression</span></a><span class=\"sk-estimator-doc-link fitted\">i<span>Fitted</span></span></div></label><div class=\"sk-toggleable__content fitted\"><pre>LinearRegression()</pre></div> </div></div></div></div>"
      ],
      "text/plain": [
       "LinearRegression()"
      ]
     },
     "execution_count": 85,
     "metadata": {},
     "output_type": "execute_result"
    }
   ],
   "source": [
    "model = LinearRegression()\n",
    "model.fit(X_train,y_train)"
   ]
  },
  {
   "cell_type": "code",
   "execution_count": 86,
   "id": "bfa8b4fd-4d76-4454-9fd1-f59e53e407d4",
   "metadata": {},
   "outputs": [],
   "source": [
    "y_pred = model.predict(X_test)"
   ]
  },
  {
   "cell_type": "code",
   "execution_count": 87,
   "id": "179e2354-f6b6-4094-b52b-9fdeab1ed09f",
   "metadata": {},
   "outputs": [
    {
     "data": {
      "text/plain": [
       "array([-0.38083331, -0.69997237,  0.10150939,  1.50931999, -0.33727136,\n",
       "        0.01449698,  1.39170273, -0.95567633, -0.19598963, -0.20660952,\n",
       "       -0.18288252,  1.57615912,  1.44486517,  0.33782724, -0.20719236,\n",
       "       -0.3793497 , -0.77854598,  1.52485098, -0.80955012, -0.7012603 ,\n",
       "       -0.79067526,  1.32703507,  0.16255355,  1.32843842,  1.45902943,\n",
       "       -0.64228457,  1.84191674,  1.89413574, -0.15596134,  0.07631893,\n",
       "       -0.56760435, -0.02034583, -1.00764862, -0.16348795,  2.1940458 ,\n",
       "       -0.0907458 , -0.78393815, -0.72863233,  1.50097081, -0.38811967,\n",
       "       -0.52003225,  1.41166038,  1.77930517, -0.08218898, -0.43874585,\n",
       "       -0.89087008, -0.59067966, -0.42374884, -0.79766172, -0.33328099,\n",
       "       -0.53609246, -0.09756964,  1.40774355, -0.7906584 , -0.20041166,\n",
       "       -0.27340855, -0.25532071, -0.85158238,  1.47708164, -0.31581847,\n",
       "        0.21768905, -0.40135987, -0.04681151, -1.03099977,  0.30051039,\n",
       "       -0.16756932, -0.225473  ,  1.35455695,  0.85125126,  0.27889273,\n",
       "       -0.59588005, -0.86434629, -0.46548415, -1.21671304, -0.18249174,\n",
       "       -1.17171093,  0.31280623, -0.36662882, -0.4293977 , -0.0884278 ,\n",
       "       -0.61997226,  0.46627205,  0.1870092 , -0.16988576,  1.84756402,\n",
       "       -0.03754375, -0.79859647, -0.94549862, -0.55271416, -0.748812  ,\n",
       "        0.16934189,  1.25868161, -0.62011139, -0.85269555, -0.99514055,\n",
       "        1.85183427,  0.11683377, -0.39700408, -0.73709474, -0.33563512,\n",
       "        0.05109124,  0.14354541,  1.60700062,  0.09442995,  1.59395021,\n",
       "       -1.04992017,  1.44941313,  1.01454746,  0.06436018, -0.67487037,\n",
       "       -0.40759179, -0.18250152, -0.40234631, -0.25364933, -0.60568814,\n",
       "       -0.63910905, -0.99050703, -0.83237619, -0.49708716, -0.28151771,\n",
       "        1.88618168, -0.4222183 , -0.11884597, -0.3195543 , -0.39702316,\n",
       "       -0.31819134, -0.69345704, -0.13791273,  1.36395452,  2.09749993,\n",
       "        1.81879408, -0.08119981, -0.94107065, -0.19222888, -0.25195875,\n",
       "       -0.65567377,  1.78055201,  1.39377872,  0.93760529, -0.68058647,\n",
       "       -0.61203309, -0.68058993,  1.93202182, -0.2541272 , -0.62211191,\n",
       "       -0.42259977, -0.22983506, -0.46750381,  1.80166545,  0.09828776,\n",
       "       -0.30190213, -0.49445729, -0.53296868,  0.28463742, -0.4604751 ,\n",
       "        1.0789936 ,  1.90941253,  0.29080683, -0.2569712 , -0.17232034,\n",
       "       -0.04437005, -0.71474507, -0.02767106,  0.03666757,  1.8419918 ,\n",
       "        1.63378873, -0.01246522,  0.92453922, -0.84700289, -0.89469802,\n",
       "       -0.74395259, -0.6665508 , -0.72323049, -0.2230885 , -0.26267551,\n",
       "        0.94687422, -0.97687304, -0.19774183, -0.48084086, -0.09797613,\n",
       "        0.14739678, -0.67509244, -0.22854424, -0.21005019,  1.618582  ,\n",
       "       -0.24115759, -0.51787563, -0.63633438, -1.02059157,  1.47116802,\n",
       "       -0.41653346,  1.64265378, -0.04988316, -0.63868362, -1.01701696,\n",
       "       -0.91825878,  1.58871763, -0.75739028, -0.03516534,  0.35599777,\n",
       "        1.06094735,  1.07115852, -0.59021947, -0.06948153,  1.16181698,\n",
       "       -0.45880821, -0.24045249, -0.26570458, -0.88698648,  1.74016301,\n",
       "        1.42152146, -0.3484728 , -0.65336235, -0.51412754, -0.13398721,\n",
       "       -0.69024255, -0.67372832, -0.10053603, -0.37870128, -0.85923102,\n",
       "       -0.80962153,  2.01364703,  1.97840152, -0.06649029, -0.18902093,\n",
       "        2.02950655,  1.72787442, -0.62441184,  1.1064272 , -0.71267572,\n",
       "        0.23348856,  1.29795962, -0.62102898, -0.33389146, -0.47759413,\n",
       "       -0.39023264, -0.4061499 , -0.72874164, -0.62354196, -0.75495258,\n",
       "       -0.60065614, -0.70362537, -0.66306373, -0.43735891, -1.05857619,\n",
       "       -0.3484113 , -0.76153217, -0.21173484, -0.940288  , -0.24303302,\n",
       "       -0.77645319, -0.16299583, -0.14879346,  0.10375848,  1.94991438,\n",
       "        0.83453096, -0.21276751, -0.45138267, -0.38547202, -0.06430732,\n",
       "        1.31312137,  2.04122381,  0.14456948,  0.31962838,  0.19510123,\n",
       "       -0.57299036,  2.053079  , -0.36508854, -0.86945427, -0.89094196,\n",
       "        0.10920404,  0.32542271, -0.31672449, -0.25469899, -0.07121941,\n",
       "       -0.10769421, -0.60856269, -0.29483349, -1.10176845,  0.34325312,\n",
       "       -0.70186956, -0.45671432, -0.07369752, -0.88242988,  0.02714942,\n",
       "       -0.17700686, -0.69591511, -0.51327196, -0.16751541, -0.2329081 ,\n",
       "        2.08013722,  0.07735861, -0.91325905, -1.31610977,  1.44036271,\n",
       "       -0.13376008, -0.93258895, -0.27166173, -0.26514142,  0.01913378,\n",
       "       -1.04890319, -0.8370854 ,  2.16452484,  1.3647262 , -0.80984034,\n",
       "       -0.85969663, -0.17400474, -0.79799965,  0.22891185, -0.73553222,\n",
       "       -0.71676202, -0.20320565,  1.4374424 , -0.03199377,  0.87055402,\n",
       "       -0.24238197, -0.87339286, -0.7907459 ,  1.49144334, -0.18709677,\n",
       "        2.13560497, -0.66325524, -0.29606024, -0.63120039, -0.04648462,\n",
       "        1.44329281, -0.13468285, -0.14039968, -0.5561218 ,  0.08902351,\n",
       "       -0.63382075, -0.46588954, -0.43670649, -0.6664437 ,  0.07524845,\n",
       "       -0.84582736,  0.24672591, -0.34423877, -0.10378338, -0.582758  ,\n",
       "       -0.69971954, -0.80382439, -0.14483207, -0.38662693, -0.9831732 ,\n",
       "       -0.17895146,  1.57810674, -0.41746246, -0.65456568, -0.56023487,\n",
       "       -0.76584658,  1.47052674,  0.14805518,  1.09978564,  1.87974429,\n",
       "       -0.63589413, -0.43548631, -0.40594493,  1.53842058, -0.72723667,\n",
       "        1.59992822,  1.24404633,  1.81375657, -0.54636364,  1.0578322 ,\n",
       "       -0.27137131, -0.01012354, -0.04304945, -0.45133724, -0.36780081,\n",
       "       -0.09747409, -0.65577669, -1.26954041, -0.15788057, -0.87681507,\n",
       "       -0.84880458,  0.42156431, -0.58632884, -0.10269491, -0.84056845,\n",
       "        0.15508173, -0.19886492, -0.87736442,  2.05721713, -0.67503251,\n",
       "       -0.46173788,  0.22337357,  0.21322777, -0.31346192, -0.23420156,\n",
       "       -0.33960994, -1.05559296, -0.29018449, -0.69787216, -0.28125674,\n",
       "        1.32517976, -1.11786605, -0.49010147,  0.07601627, -0.07400207,\n",
       "        0.03786109, -0.47581715])"
      ]
     },
     "execution_count": 87,
     "metadata": {},
     "output_type": "execute_result"
    }
   ],
   "source": [
    "y_pred"
   ]
  },
  {
   "cell_type": "code",
   "execution_count": 88,
   "id": "cdd7b4c9-bd20-46f7-b233-f84fb7d36722",
   "metadata": {},
   "outputs": [],
   "source": [
    "n = len(y_test)  \n",
    "p = X_train.shape[1]"
   ]
  },
  {
   "cell_type": "code",
   "execution_count": 89,
   "id": "6fc58206-30b9-4a68-8971-802746a62793",
   "metadata": {},
   "outputs": [
    {
     "data": {
      "text/plain": [
       "402"
      ]
     },
     "execution_count": 89,
     "metadata": {},
     "output_type": "execute_result"
    }
   ],
   "source": [
    "n"
   ]
  },
  {
   "cell_type": "code",
   "execution_count": 90,
   "id": "ddda3fe9-b167-43c3-a73c-9c87794c75ec",
   "metadata": {},
   "outputs": [
    {
     "data": {
      "text/plain": [
       "7"
      ]
     },
     "execution_count": 90,
     "metadata": {},
     "output_type": "execute_result"
    }
   ],
   "source": [
    "p"
   ]
  },
  {
   "cell_type": "code",
   "execution_count": 91,
   "id": "71979e0b-5aa2-417a-8116-ca8e911216eb",
   "metadata": {},
   "outputs": [],
   "source": [
    "RSS = np.sum((y_test - y_pred) ** 2)"
   ]
  },
  {
   "cell_type": "code",
   "execution_count": 92,
   "id": "a73daa2b-0087-43c1-ad61-0119a3684563",
   "metadata": {},
   "outputs": [
    {
     "data": {
      "text/plain": [
       "107.02540373522446"
      ]
     },
     "execution_count": 92,
     "metadata": {},
     "output_type": "execute_result"
    }
   ],
   "source": [
    "RSS"
   ]
  },
  {
   "cell_type": "code",
   "execution_count": 93,
   "id": "7a04cc0e-8e92-47a9-a47b-9a7253595f47",
   "metadata": {},
   "outputs": [],
   "source": [
    "TSS = np.sum((y_test - np.mean(y_test)) ** 2)"
   ]
  },
  {
   "cell_type": "code",
   "execution_count": 94,
   "id": "0ff883fc-2874-4741-8c28-883cb767362f",
   "metadata": {},
   "outputs": [
    {
     "data": {
      "text/plain": [
       "469.3878835588762"
      ]
     },
     "execution_count": 94,
     "metadata": {},
     "output_type": "execute_result"
    }
   ],
   "source": [
    "TSS"
   ]
  },
  {
   "cell_type": "code",
   "execution_count": 95,
   "id": "0453c509-e284-4f41-8cae-6bba3c146e1c",
   "metadata": {},
   "outputs": [],
   "source": [
    "ESS = TSS - RSS"
   ]
  },
  {
   "cell_type": "code",
   "execution_count": 96,
   "id": "8111cad4-7e07-4b77-8e80-12617611dec3",
   "metadata": {},
   "outputs": [
    {
     "data": {
      "text/plain": [
       "362.3624798236517"
      ]
     },
     "execution_count": 96,
     "metadata": {},
     "output_type": "execute_result"
    }
   ],
   "source": [
    "ESS"
   ]
  },
  {
   "cell_type": "code",
   "execution_count": 97,
   "id": "a1d7611e-ea1a-4174-bad8-2080db8ab6ec",
   "metadata": {},
   "outputs": [],
   "source": [
    "MSE = RSS / (n - p - 1)"
   ]
  },
  {
   "cell_type": "code",
   "execution_count": 98,
   "id": "6ec25ae3-6a50-48ff-b3d9-b16e240a615b",
   "metadata": {},
   "outputs": [
    {
     "data": {
      "text/plain": [
       "0.271638080546255"
      ]
     },
     "execution_count": 98,
     "metadata": {},
     "output_type": "execute_result"
    }
   ],
   "source": [
    "MSE"
   ]
  },
  {
   "cell_type": "code",
   "execution_count": 99,
   "id": "c6c70d4e-a35b-4bce-aac4-adf8fb854e7e",
   "metadata": {},
   "outputs": [],
   "source": [
    "MSR = ESS / p"
   ]
  },
  {
   "cell_type": "code",
   "execution_count": 100,
   "id": "23fbedc1-793e-4e97-a849-e1a89c0c272b",
   "metadata": {},
   "outputs": [
    {
     "data": {
      "text/plain": [
       "51.76606854623596"
      ]
     },
     "execution_count": 100,
     "metadata": {},
     "output_type": "execute_result"
    }
   ],
   "source": [
    "MSR"
   ]
  },
  {
   "cell_type": "code",
   "execution_count": 101,
   "id": "034a59a4-2837-4f28-8081-5b9e3a64fefd",
   "metadata": {},
   "outputs": [],
   "source": [
    "F_statistic = MSR / MSE"
   ]
  },
  {
   "cell_type": "code",
   "execution_count": 102,
   "id": "f1bfce6c-7e69-4461-9e15-b7a0cc5137bb",
   "metadata": {},
   "outputs": [
    {
     "data": {
      "text/plain": [
       "190.56999829381854"
      ]
     },
     "execution_count": 102,
     "metadata": {},
     "output_type": "execute_result"
    }
   ],
   "source": [
    "F_statistic"
   ]
  },
  {
   "cell_type": "code",
   "execution_count": 103,
   "id": "3794296c-560f-4d04-bbf2-089569479fe6",
   "metadata": {},
   "outputs": [],
   "source": [
    "p_value = 1 - stats.f.cdf(F_statistic, p, n - p - 1)"
   ]
  },
  {
   "cell_type": "code",
   "execution_count": 104,
   "id": "6f9dee9d-ffe7-4f03-b4d0-2042cfeffa1f",
   "metadata": {},
   "outputs": [
    {
     "data": {
      "text/plain": [
       "1.1102230246251565e-16"
      ]
     },
     "execution_count": 104,
     "metadata": {},
     "output_type": "execute_result"
    }
   ],
   "source": [
    "p_value"
   ]
  },
  {
   "cell_type": "code",
   "execution_count": 105,
   "id": "45e0c57f-2173-4ced-8e73-cfa8ae9698a7",
   "metadata": {},
   "outputs": [
    {
     "name": "stdout",
     "output_type": "stream",
     "text": [
      "F-statistic: 190.56999829381854\n",
      "p-value: 1.1102230246251565e-16\n"
     ]
    }
   ],
   "source": [
    "print('F-statistic:', F_statistic)\n",
    "print('p-value:', p_value)"
   ]
  },
  {
   "cell_type": "code",
   "execution_count": 106,
   "id": "d6054d7e-8e44-4636-855b-b716b8fbe802",
   "metadata": {},
   "outputs": [
    {
     "name": "stdout",
     "output_type": "stream",
     "text": [
      "The model is significant at the 5% significance level.\n"
     ]
    }
   ],
   "source": [
    "if p_value < 0.05:\n",
    "    print('The model is significant at the 5% significance level.')\n",
    "else:\n",
    "    print('The model is not significant at the 5% significance level.')"
   ]
  },
  {
   "cell_type": "markdown",
   "id": "fad63731-19fc-4f9b-9d4c-d64cad0c2a46",
   "metadata": {},
   "source": [
    "## Insight :\n",
    "### The model is statistically significant at the 5% significance level, indicating that the set of independent variables collectively explain a significant portion of the variance in medical charges.\n",
    "\n",
    "### This confirms that the features included in the model — such as age, BMI, smoking status, number of children, and other demographic attributes — are useful predictors and contribute meaningfully to the overall model performance."
   ]
  },
  {
   "cell_type": "markdown",
   "id": "19601b94-7083-4264-9154-062473f6afa2",
   "metadata": {},
   "source": [
    "<h1 style=\"background-color: #8B0000; color: white; padding: 16px; font-family: 'Times New Roman', serif; text-align: center; border: 2px solid #8B0000;\">\n",
    "  Pearson Correlation Coefficient Test\n",
    "</h1>"
   ]
  },
  {
   "cell_type": "markdown",
   "id": "cdb722a0-ffb9-44c7-a6fb-91b355c8b195",
   "metadata": {},
   "source": [
    "<h2 style=\"background-color: #FFFDD0; color: #8B0000; font-family: 'Times New Roman', serif; padding: 15px; text-align: center; border: 2px solid #8B0000;\">\n",
    "  Relationship Between Age and Insurance Charges\n",
    "</h2>"
   ]
  },
  {
   "cell_type": "code",
   "execution_count": 110,
   "id": "abf5a794-becb-41f3-aa6b-2f81bbd1f5be",
   "metadata": {},
   "outputs": [],
   "source": [
    "from scipy.stats import pearsonr\n",
    "\n",
    "# Calculate correlation coefficient and p-value\n",
    "corr_coeff, p_val = pearsonr(df['age'], df['charges'])\n"
   ]
  },
  {
   "cell_type": "code",
   "execution_count": 111,
   "id": "5e880c8a-761c-42eb-9b17-b31361b14cf9",
   "metadata": {},
   "outputs": [
    {
     "name": "stdout",
     "output_type": "stream",
     "text": [
      "Correlation Coefficient: 0.29830821250978634\n",
      "P-value: 1.1102230246251565e-16\n"
     ]
    }
   ],
   "source": [
    "print(\"Correlation Coefficient:\", corr_coeff)\n",
    "print(\"P-value:\", p_value)"
   ]
  },
  {
   "cell_type": "code",
   "execution_count": 112,
   "id": "36608978-be7e-42a5-8ca5-773cd742cb77",
   "metadata": {},
   "outputs": [
    {
     "name": "stdout",
     "output_type": "stream",
     "text": [
      "The model is significant at the 5% significance level.\n"
     ]
    }
   ],
   "source": [
    "if p_value < 0.05:\n",
    "    print('The model is significant at the 5% significance level.')\n",
    "else:\n",
    "    print('The model is not significant at the 5% significance level.')"
   ]
  },
  {
   "cell_type": "markdown",
   "id": "57070e68-4371-4ae2-ac8b-ac805795f350",
   "metadata": {},
   "source": [
    "### There is a statistically significant positive correlation between age and insurance charges. This indicates that as a person’s age increases, their medical expenses tend to rise as well—possibly due to age-related health risks and increased medical needs."
   ]
  },
  {
   "cell_type": "markdown",
   "id": "a45121fe-6d1f-4b32-ad7d-455b558dd525",
   "metadata": {},
   "source": [
    "# Visualization :"
   ]
  },
  {
   "cell_type": "code",
   "execution_count": 115,
   "id": "d610ad28-9ede-4ba7-8fd6-16950caad8bb",
   "metadata": {},
   "outputs": [
    {
     "data": {
      "image/png": "[encoded data removed]",
      "text/plain": [
       "<Figure size 1000x600 with 1 Axes>"
      ]
     },
     "metadata": {},
     "output_type": "display_data"
    }
   ],
   "source": [
    "# Sort the dataframe by age to make the line smooth\n",
    "df_sorted = df.sort_values('age')\n",
    "\n",
    "# Plot lineplot\n",
    "plt.figure(figsize=(10, 6))\n",
    "sns.lineplot(x='age', y='charges', data=df_sorted, color='crimson')\n",
    "plt.title('Line Plot: Age vs Charges', fontsize=14)\n",
    "plt.xlabel('Age')\n",
    "plt.ylabel('Charges')\n",
    "plt.grid(True)\n",
    "plt.tight_layout()\n",
    "plt.show()"
   ]
  },
  {
   "cell_type": "markdown",
   "id": "b1fef511-ceff-44de-b0dd-74e1d95fb683",
   "metadata": {},
   "source": [
    "## Insight :\n",
    "### The line graph clearly shows an upward trend in medical charges as age increases. This suggests a positive relationship between a person’s age and their healthcare expenses."
   ]
  },
  {
   "cell_type": "markdown",
   "id": "f491e839-4549-4005-b2eb-e7e0594d5357",
   "metadata": {},
   "source": [
    "<h1 style=\"background-color: #8B0000; color: white; padding: 16px; font-family: 'Times New Roman', serif; text-align: center; border: 2px solid #8B0000;\">\n",
    "  CONCLUSION\n",
    "</h1>"
   ]
  },
  {
   "cell_type": "markdown",
   "id": "0e383ed9-0ec4-44d7-a8c9-3f8d580f6b77",
   "metadata": {},
   "source": [
    "This project analyzed the medical insurance dataset to understand how various factors influence insurance charges. The statistical tests and visual explorations revealed that age, smoking status, and BMI significantly affect insurance costs. Notably, Age is associated with substantially higher charges, as confirmed by both the Pearson correlation test and the strong positive correlation in the heatmap. A statistically significant difference in charges was also observed between different BMI groups and genders, suggesting the influence of health-related and demographic factors. The Pearson correlation and EDA further supported these findings, helping us draw meaningful insights about risk factors and their financial impact on insurance."
   ]
  },
  {
   "cell_type": "code",
   "execution_count": null,
   "id": "61eb9026-fdff-4cee-a634-ca6a08ff0f12",
   "metadata": {},
   "outputs": [],
   "source": []
  }
 ],
 "metadata": {
  "kernelspec": {
   "display_name": "Python 3 (ipykernel)",
   "language": "python",
   "name": "python3"
  },
  "language_info": {
   "codemirror_mode": {
    "name": "ipython",
    "version": 3
   },
   "file_extension": ".py",
   "mimetype": "text/x-python",
   "name": "python",
   "nbconvert_exporter": "python",
   "pygments_lexer": "ipython3",
   "version": "3.12.7"
  }
 },
 "nbformat": 4,
 "nbformat_minor": 5
}
